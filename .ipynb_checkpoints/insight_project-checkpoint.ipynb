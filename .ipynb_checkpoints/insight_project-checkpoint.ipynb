{
 "cells": [
  {
   "cell_type": "markdown",
   "id": "6392a104",
   "metadata": {},
   "source": [
    "# 0.0 Importando Biblioteca"
   ]
  },
  {
   "cell_type": "code",
   "execution_count": 1,
   "id": "544990cf",
   "metadata": {},
   "outputs": [],
   "source": [
    "import pandas as pd\n",
    "import numpy as np\n",
    "import matplotlib.pyplot as plt\n",
    "import plotly.express as px\n",
    "from datetime import datetime"
   ]
  },
  {
   "cell_type": "markdown",
   "id": "64eefb25",
   "metadata": {},
   "source": [
    "# Funções"
   ]
  },
  {
   "cell_type": "code",
   "execution_count": 38,
   "id": "3286e158",
   "metadata": {},
   "outputs": [],
   "source": [
    "def get_data(path):\n",
    "    data = pd.read_csv(path)\n",
    "    \n",
    "    return data\n",
    "\n",
    "pd.set_option('display.float_format', lambda x : '%.2f' % x)\n",
    "\n",
    "# changing the label size\n",
    "plt.rc('xtick', labelsize=30) \n",
    "plt.rc('ytick', labelsize=30) "
   ]
  },
  {
   "cell_type": "markdown",
   "id": "409490cd",
   "metadata": {},
   "source": [
    "# 1.0 Data"
   ]
  },
  {
   "cell_type": "markdown",
   "id": "d7271467",
   "metadata": {},
   "source": [
    "# Extraction"
   ]
  },
  {
   "cell_type": "markdown",
   "id": "8b46ea46",
   "metadata": {},
   "source": [
    "# 1.1 Load data"
   ]
  },
  {
   "cell_type": "code",
   "execution_count": 3,
   "id": "d0a19ce7",
   "metadata": {},
   "outputs": [],
   "source": [
    "df = get_data('kc_house_data.csv')"
   ]
  },
  {
   "cell_type": "markdown",
   "id": "d6e76b6e",
   "metadata": {},
   "source": [
    "# 1.2 Dataset Dimension"
   ]
  },
  {
   "cell_type": "code",
   "execution_count": 4,
   "id": "2fd86dcd",
   "metadata": {},
   "outputs": [
    {
     "name": "stdout",
     "output_type": "stream",
     "text": [
      "Number of columns: 21\n",
      "Number of rows: 21613\n"
     ]
    }
   ],
   "source": [
    "print('Number of columns: {}'.format(df.shape[1]))\n",
    "print('Number of rows: {}'.format(df.shape[0]))"
   ]
  },
  {
   "cell_type": "markdown",
   "id": "817392a7",
   "metadata": {},
   "source": [
    "# 1.3 Checking datatypes"
   ]
  },
  {
   "cell_type": "code",
   "execution_count": 5,
   "id": "f48abdc3",
   "metadata": {},
   "outputs": [
    {
     "data": {
      "text/plain": [
       "id                 int64\n",
       "date              object\n",
       "price            float64\n",
       "bedrooms           int64\n",
       "bathrooms        float64\n",
       "sqft_living        int64\n",
       "sqft_lot           int64\n",
       "floors           float64\n",
       "waterfront         int64\n",
       "view               int64\n",
       "condition          int64\n",
       "grade              int64\n",
       "sqft_above         int64\n",
       "sqft_basement      int64\n",
       "yr_built           int64\n",
       "yr_renovated       int64\n",
       "zipcode            int64\n",
       "lat              float64\n",
       "long             float64\n",
       "sqft_living15      int64\n",
       "sqft_lot15         int64\n",
       "dtype: object"
      ]
     },
     "execution_count": 5,
     "metadata": {},
     "output_type": "execute_result"
    }
   ],
   "source": [
    "df.dtypes"
   ]
  },
  {
   "cell_type": "markdown",
   "id": "892bf62a",
   "metadata": {},
   "source": [
    "# Transformation"
   ]
  },
  {
   "cell_type": "code",
   "execution_count": 6,
   "id": "a5233dbb",
   "metadata": {},
   "outputs": [],
   "source": [
    "# Convert column date from object type to datetime type\n",
    "df['date'] = pd.to_datetime(df['date'])"
   ]
  },
  {
   "cell_type": "markdown",
   "id": "231d4c89",
   "metadata": {},
   "source": [
    "# 1.4 Cleaning data"
   ]
  },
  {
   "cell_type": "markdown",
   "id": "d3ce8dc6",
   "metadata": {},
   "source": [
    "# 1.4.1 Check null values"
   ]
  },
  {
   "cell_type": "code",
   "execution_count": 7,
   "id": "e56bda4e",
   "metadata": {
    "scrolled": true
   },
   "outputs": [
    {
     "data": {
      "text/plain": [
       "id               0\n",
       "date             0\n",
       "price            0\n",
       "bedrooms         0\n",
       "bathrooms        0\n",
       "sqft_living      0\n",
       "sqft_lot         0\n",
       "floors           0\n",
       "waterfront       0\n",
       "view             0\n",
       "condition        0\n",
       "grade            0\n",
       "sqft_above       0\n",
       "sqft_basement    0\n",
       "yr_built         0\n",
       "yr_renovated     0\n",
       "zipcode          0\n",
       "lat              0\n",
       "long             0\n",
       "sqft_living15    0\n",
       "sqft_lot15       0\n",
       "dtype: int64"
      ]
     },
     "execution_count": 7,
     "metadata": {},
     "output_type": "execute_result"
    }
   ],
   "source": [
    "df.isna().sum()"
   ]
  },
  {
   "cell_type": "markdown",
   "id": "5e49b9c5",
   "metadata": {},
   "source": [
    "# Clean Data"
   ]
  },
  {
   "cell_type": "markdown",
   "id": "2683799b",
   "metadata": {},
   "source": [
    "# 1.4.2 Checking Duplicates"
   ]
  },
  {
   "cell_type": "code",
   "execution_count": 8,
   "id": "92cccb67",
   "metadata": {},
   "outputs": [
    {
     "data": {
      "text/plain": [
       "0"
      ]
     },
     "execution_count": 8,
     "metadata": {},
     "output_type": "execute_result"
    }
   ],
   "source": [
    "df.duplicated().sum()"
   ]
  },
  {
   "cell_type": "markdown",
   "id": "ee366ed8",
   "metadata": {},
   "source": [
    "# 1.4.3 Drop duplicate columns"
   ]
  },
  {
   "cell_type": "code",
   "execution_count": 9,
   "id": "8bc54ac0",
   "metadata": {},
   "outputs": [],
   "source": [
    "df = df.drop(columns = ['sqft_lot15', 'sqft_living15'])"
   ]
  },
  {
   "cell_type": "markdown",
   "id": "2ef7de9d",
   "metadata": {},
   "source": [
    "# 1.5 Descriptive Stats"
   ]
  },
  {
   "cell_type": "code",
   "execution_count": 10,
   "id": "961bfe30",
   "metadata": {},
   "outputs": [],
   "source": [
    "# select only data types equals to int64 and float64\n",
    "num_attri = df.select_dtypes(include = ['int64', 'float64'])\n",
    "\n",
    "# exclude the id column\n",
    "num_attri = num_attri.iloc[:, 1:]\n",
    "\n",
    "mean = pd.DataFrame(num_attri.apply(np.mean))\n",
    "median = pd.DataFrame(num_attri.apply(np.median))\n",
    "std = pd.DataFrame(num_attri.apply(np.std))\n",
    "max_ = pd.DataFrame(num_attri.apply(np.max))\n",
    "min_ = pd.DataFrame(num_attri.apply(np.min))\n",
    "\n",
    "# concatenate all created variables\n",
    "df0 = pd.concat([max_, min_, mean, median, std ], axis = 1).reset_index()\n",
    "\n",
    "# rename columns\n",
    "df0.columns = ['attributes', 'max', 'min', 'mean', 'median', 'std']"
   ]
  },
  {
   "cell_type": "code",
   "execution_count": 11,
   "id": "19849c32",
   "metadata": {},
   "outputs": [
    {
     "data": {
      "text/html": [
       "<div>\n",
       "<style scoped>\n",
       "    .dataframe tbody tr th:only-of-type {\n",
       "        vertical-align: middle;\n",
       "    }\n",
       "\n",
       "    .dataframe tbody tr th {\n",
       "        vertical-align: top;\n",
       "    }\n",
       "\n",
       "    .dataframe thead th {\n",
       "        text-align: right;\n",
       "    }\n",
       "</style>\n",
       "<table border=\"1\" class=\"dataframe\">\n",
       "  <thead>\n",
       "    <tr style=\"text-align: right;\">\n",
       "      <th></th>\n",
       "      <th>attributes</th>\n",
       "      <th>max</th>\n",
       "      <th>min</th>\n",
       "      <th>mean</th>\n",
       "      <th>median</th>\n",
       "      <th>std</th>\n",
       "    </tr>\n",
       "  </thead>\n",
       "  <tbody>\n",
       "    <tr>\n",
       "      <th>0</th>\n",
       "      <td>price</td>\n",
       "      <td>7700000.00</td>\n",
       "      <td>75000.00</td>\n",
       "      <td>540088.14</td>\n",
       "      <td>450000.00</td>\n",
       "      <td>367118.70</td>\n",
       "    </tr>\n",
       "    <tr>\n",
       "      <th>1</th>\n",
       "      <td>bedrooms</td>\n",
       "      <td>33.00</td>\n",
       "      <td>0.00</td>\n",
       "      <td>3.37</td>\n",
       "      <td>3.00</td>\n",
       "      <td>0.93</td>\n",
       "    </tr>\n",
       "    <tr>\n",
       "      <th>2</th>\n",
       "      <td>bathrooms</td>\n",
       "      <td>8.00</td>\n",
       "      <td>0.00</td>\n",
       "      <td>2.11</td>\n",
       "      <td>2.25</td>\n",
       "      <td>0.77</td>\n",
       "    </tr>\n",
       "    <tr>\n",
       "      <th>3</th>\n",
       "      <td>sqft_living</td>\n",
       "      <td>13540.00</td>\n",
       "      <td>290.00</td>\n",
       "      <td>2079.90</td>\n",
       "      <td>1910.00</td>\n",
       "      <td>918.42</td>\n",
       "    </tr>\n",
       "    <tr>\n",
       "      <th>4</th>\n",
       "      <td>sqft_lot</td>\n",
       "      <td>1651359.00</td>\n",
       "      <td>520.00</td>\n",
       "      <td>15106.97</td>\n",
       "      <td>7618.00</td>\n",
       "      <td>41419.55</td>\n",
       "    </tr>\n",
       "    <tr>\n",
       "      <th>5</th>\n",
       "      <td>floors</td>\n",
       "      <td>3.50</td>\n",
       "      <td>1.00</td>\n",
       "      <td>1.49</td>\n",
       "      <td>1.50</td>\n",
       "      <td>0.54</td>\n",
       "    </tr>\n",
       "    <tr>\n",
       "      <th>6</th>\n",
       "      <td>waterfront</td>\n",
       "      <td>1.00</td>\n",
       "      <td>0.00</td>\n",
       "      <td>0.01</td>\n",
       "      <td>0.00</td>\n",
       "      <td>0.09</td>\n",
       "    </tr>\n",
       "    <tr>\n",
       "      <th>7</th>\n",
       "      <td>view</td>\n",
       "      <td>4.00</td>\n",
       "      <td>0.00</td>\n",
       "      <td>0.23</td>\n",
       "      <td>0.00</td>\n",
       "      <td>0.77</td>\n",
       "    </tr>\n",
       "    <tr>\n",
       "      <th>8</th>\n",
       "      <td>condition</td>\n",
       "      <td>5.00</td>\n",
       "      <td>1.00</td>\n",
       "      <td>3.41</td>\n",
       "      <td>3.00</td>\n",
       "      <td>0.65</td>\n",
       "    </tr>\n",
       "    <tr>\n",
       "      <th>9</th>\n",
       "      <td>grade</td>\n",
       "      <td>13.00</td>\n",
       "      <td>1.00</td>\n",
       "      <td>7.66</td>\n",
       "      <td>7.00</td>\n",
       "      <td>1.18</td>\n",
       "    </tr>\n",
       "    <tr>\n",
       "      <th>10</th>\n",
       "      <td>sqft_above</td>\n",
       "      <td>9410.00</td>\n",
       "      <td>290.00</td>\n",
       "      <td>1788.39</td>\n",
       "      <td>1560.00</td>\n",
       "      <td>828.07</td>\n",
       "    </tr>\n",
       "    <tr>\n",
       "      <th>11</th>\n",
       "      <td>sqft_basement</td>\n",
       "      <td>4820.00</td>\n",
       "      <td>0.00</td>\n",
       "      <td>291.51</td>\n",
       "      <td>0.00</td>\n",
       "      <td>442.56</td>\n",
       "    </tr>\n",
       "    <tr>\n",
       "      <th>12</th>\n",
       "      <td>yr_built</td>\n",
       "      <td>2015.00</td>\n",
       "      <td>1900.00</td>\n",
       "      <td>1971.01</td>\n",
       "      <td>1975.00</td>\n",
       "      <td>29.37</td>\n",
       "    </tr>\n",
       "    <tr>\n",
       "      <th>13</th>\n",
       "      <td>yr_renovated</td>\n",
       "      <td>2015.00</td>\n",
       "      <td>0.00</td>\n",
       "      <td>84.40</td>\n",
       "      <td>0.00</td>\n",
       "      <td>401.67</td>\n",
       "    </tr>\n",
       "    <tr>\n",
       "      <th>14</th>\n",
       "      <td>zipcode</td>\n",
       "      <td>98199.00</td>\n",
       "      <td>98001.00</td>\n",
       "      <td>98077.94</td>\n",
       "      <td>98065.00</td>\n",
       "      <td>53.50</td>\n",
       "    </tr>\n",
       "    <tr>\n",
       "      <th>15</th>\n",
       "      <td>lat</td>\n",
       "      <td>47.78</td>\n",
       "      <td>47.16</td>\n",
       "      <td>47.56</td>\n",
       "      <td>47.57</td>\n",
       "      <td>0.14</td>\n",
       "    </tr>\n",
       "    <tr>\n",
       "      <th>16</th>\n",
       "      <td>long</td>\n",
       "      <td>-121.31</td>\n",
       "      <td>-122.52</td>\n",
       "      <td>-122.21</td>\n",
       "      <td>-122.23</td>\n",
       "      <td>0.14</td>\n",
       "    </tr>\n",
       "  </tbody>\n",
       "</table>\n",
       "</div>"
      ],
      "text/plain": [
       "       attributes        max      min      mean    median       std\n",
       "0           price 7700000.00 75000.00 540088.14 450000.00 367118.70\n",
       "1        bedrooms      33.00     0.00      3.37      3.00      0.93\n",
       "2       bathrooms       8.00     0.00      2.11      2.25      0.77\n",
       "3     sqft_living   13540.00   290.00   2079.90   1910.00    918.42\n",
       "4        sqft_lot 1651359.00   520.00  15106.97   7618.00  41419.55\n",
       "5          floors       3.50     1.00      1.49      1.50      0.54\n",
       "6      waterfront       1.00     0.00      0.01      0.00      0.09\n",
       "7            view       4.00     0.00      0.23      0.00      0.77\n",
       "8       condition       5.00     1.00      3.41      3.00      0.65\n",
       "9           grade      13.00     1.00      7.66      7.00      1.18\n",
       "10     sqft_above    9410.00   290.00   1788.39   1560.00    828.07\n",
       "11  sqft_basement    4820.00     0.00    291.51      0.00    442.56\n",
       "12       yr_built    2015.00  1900.00   1971.01   1975.00     29.37\n",
       "13   yr_renovated    2015.00     0.00     84.40      0.00    401.67\n",
       "14        zipcode   98199.00 98001.00  98077.94  98065.00     53.50\n",
       "15            lat      47.78    47.16     47.56     47.57      0.14\n",
       "16           long    -121.31  -122.52   -122.21   -122.23      0.14"
      ]
     },
     "execution_count": 11,
     "metadata": {},
     "output_type": "execute_result"
    }
   ],
   "source": [
    "df0"
   ]
  },
  {
   "cell_type": "markdown",
   "id": "8e2fc97c",
   "metadata": {},
   "source": [
    "# 1.6 New Features"
   ]
  },
  {
   "cell_type": "code",
   "execution_count": 12,
   "id": "7eb9ff0c",
   "metadata": {},
   "outputs": [],
   "source": [
    "# feature for hypothesis 1\n",
    "df['waterview'] = df['waterfront'].apply(lambda x : 'no' if (x == 0) else 'yes')\n",
    "\n",
    "# feature for hypothesis 2\n",
    "df['yr_b_mean'] = df['yr_built'].apply(lambda x : '< 1955' if (x < 1955) else '> 1955' )\n",
    "\n",
    "# feature for hypothesis 3\n",
    "df['has_basement'] = df['sqft_basement'].apply(lambda x : 'no' if (x == 0) else 'yes')\n",
    "\n",
    "# feature for hypothesis 4\n",
    "df['year'] = pd.to_datetime(df['date']).dt.year\n",
    "\n",
    "# feature for hypothesis 5\n",
    "df['month'] = pd.to_datetime(df['date']).dt.month"
   ]
  },
  {
   "cell_type": "markdown",
   "id": "17c38e80",
   "metadata": {},
   "source": [
    "# 2.0 Answering hypothesis"
   ]
  },
  {
   "cell_type": "markdown",
   "id": "fe27a907",
   "metadata": {},
   "source": [
    "# Hypothesis 1: Usually real state with waterfront view are more 30% expensive in average"
   ]
  },
  {
   "cell_type": "code",
   "execution_count": 58,
   "id": "ae6808a1",
   "metadata": {},
   "outputs": [
    {
     "data": {
      "image/png": "[encoded data removed]",
      "text/plain": [
       "<Figure size 1152x864 with 1 Axes>"
      ]
     },
     "metadata": {
      "needs_background": "light"
     },
     "output_type": "display_data"
    }
   ],
   "source": [
    "h1 = df[['waterview', 'price']].groupby('waterview').mean().reset_index()\n",
    "\n",
    "plt.figure(figsize = (16, 12))\n",
    "plt.bar(h1['waterview'], h1['price'])\n",
    "plt.xlabel('Waterview', fontsize = 28)\n",
    "plt.ylabel('Price', fontsize = 28)\n",
    "plt.title('Waterfront View Average Price', fontsize = 28)\n",
    "plt.show()"
   ]
  },
  {
   "cell_type": "markdown",
   "id": "2297b559",
   "metadata": {},
   "source": [
    "# Hypothesis 2: Real state with year of construction less than 1955 are 50% cheaper in average"
   ]
  },
  {
   "cell_type": "code",
   "execution_count": 59,
   "id": "ba42f331",
   "metadata": {},
   "outputs": [
    {
     "data": {
      "image/png": "[encoded data removed]",
      "text/plain": [
       "<Figure size 1008x864 with 1 Axes>"
      ]
     },
     "metadata": {
      "needs_background": "light"
     },
     "output_type": "display_data"
    }
   ],
   "source": [
    "h2 = df[['yr_b_mean', 'price']].groupby('yr_b_mean').mean().reset_index()\n",
    "\n",
    "plt.figure(figsize = (14, 12))\n",
    "plt.bar(h2['yr_b_mean'], h2['price'])\n",
    "plt.xlabel('Year Built', fontsize = 28)\n",
    "plt.ylabel('Price', fontsize = 28)\n",
    "plt.title('Construction Year Average Price', fontsize = 28)\n",
    "plt.show()"
   ]
  },
  {
   "cell_type": "markdown",
   "id": "82f67974",
   "metadata": {},
   "source": [
    "# Hypothesis 3: Real state without basement, have a greater sqft lot about 40% in average"
   ]
  },
  {
   "cell_type": "code",
   "execution_count": 60,
   "id": "89652959",
   "metadata": {},
   "outputs": [
    {
     "data": {
      "image/png": "[encoded data removed]",
      "text/plain": [
       "<Figure size 1008x864 with 1 Axes>"
      ]
     },
     "metadata": {
      "needs_background": "light"
     },
     "output_type": "display_data"
    }
   ],
   "source": [
    "h3 = df[['has_basement', 'sqft_lot']].groupby('has_basement').sum().reset_index()\n",
    "\n",
    "plt.figure(figsize = (14, 12))\n",
    "plt.bar(h3['has_basement'], h3['sqft_lot'])\n",
    "plt.xlabel('Basement', fontsize = 28)\n",
    "plt.ylabel('Sqft Lot', fontsize = 28)\n",
    "plt.title('Basement x No Basement Average Price', fontsize = 28)\n",
    "plt.show()"
   ]
  },
  {
   "cell_type": "markdown",
   "id": "28f060de",
   "metadata": {},
   "source": [
    "# Hypothesis 4: The price growth YoY of real state is 10%"
   ]
  },
  {
   "cell_type": "code",
   "execution_count": 50,
   "id": "8ba1a1a6",
   "metadata": {},
   "outputs": [
    {
     "data": {
      "image/png": "[encoded data removed]",
      "text/plain": [
       "<Figure size 1440x864 with 1 Axes>"
      ]
     },
     "metadata": {
      "needs_background": "light"
     },
     "output_type": "display_data"
    }
   ],
   "source": [
    "h4 = df[['year', 'price']].groupby('year').sum().reset_index()\n",
    "\n",
    "plt.figure(figsize = (20, 12))\n",
    "plt.bar(h4['year'], h4['price'])\n",
    "plt.xlabel('Year', fontsize = 28)\n",
    "plt.ylabel('Price', fontsize = 28)\n",
    "plt.title('Growth YoY Average Price', fontsize = 28)\n",
    "plt.show()"
   ]
  },
  {
   "cell_type": "markdown",
   "id": "ac2475d8",
   "metadata": {},
   "source": [
    "# Hypothesis 5: Real state with 3 bathrooms have a price growth MoM of 15% "
   ]
  },
  {
   "cell_type": "code",
   "execution_count": 45,
   "id": "99435411",
   "metadata": {},
   "outputs": [
    {
     "data": {
      "image/png": "[encoded data removed]",
      "text/plain": [
       "<Figure size 1440x864 with 1 Axes>"
      ]
     },
     "metadata": {
      "needs_background": "light"
     },
     "output_type": "display_data"
    }
   ],
   "source": [
    "h5 = df[['bathrooms','month', 'price']].groupby(['bathrooms', 'month']).sum().reset_index()\n",
    "h5 = h5[h5['bathrooms']==3]\n",
    "\n",
    "plt.figure(figsize = (20, 12))\n",
    "plt.plot(h5['month'], h5['price'])\n",
    "plt.xlabel('Month', fontsize = 28)\n",
    "plt.ylabel('Price', fontsize = 28)\n",
    "plt.title('Real state 3 Bathrooms Price Growth', fontsize = 28)\n",
    "plt.show()"
   ]
  },
  {
   "cell_type": "markdown",
   "id": "350beb65",
   "metadata": {},
   "source": [
    "# Hypothesis"
   ]
  },
  {
   "cell_type": "markdown",
   "id": "811121e8",
   "metadata": {},
   "source": [
    "# Hypothesis"
   ]
  },
  {
   "cell_type": "markdown",
   "id": "f89bcbe8",
   "metadata": {},
   "source": [
    "# Hypothesis"
   ]
  },
  {
   "cell_type": "markdown",
   "id": "93cad442",
   "metadata": {},
   "source": [
    "# Hypothesis"
   ]
  },
  {
   "cell_type": "markdown",
   "id": "d840a8f3",
   "metadata": {},
   "source": [
    "# Hypothesis"
   ]
  },
  {
   "cell_type": "code",
   "execution_count": 22,
   "id": "97f900e5",
   "metadata": {},
   "outputs": [
    {
     "data": {
      "text/plain": [
       "Index(['id', 'date', 'price', 'bedrooms', 'bathrooms', 'sqft_living',\n",
       "       'sqft_lot', 'floors', 'waterfront', 'view', 'condition', 'grade',\n",
       "       'sqft_above', 'sqft_basement', 'yr_built', 'yr_renovated', 'zipcode',\n",
       "       'lat', 'long', 'waterview', 'yr_b_mean', 'has_basement', 'year',\n",
       "       'month'],\n",
       "      dtype='object')"
      ]
     },
     "execution_count": 22,
     "metadata": {},
     "output_type": "execute_result"
    }
   ],
   "source": [
    "df.columns"
   ]
  },
  {
   "cell_type": "markdown",
   "id": "3ad9a991",
   "metadata": {},
   "source": [
    "# 3.0 Business Questions"
   ]
  },
  {
   "cell_type": "markdown",
   "id": "111e0e8d",
   "metadata": {},
   "source": [
    "# 3.1 Quais são os imóveis que a House Rocket deveria comprar e por qual preço ?"
   ]
  },
  {
   "cell_type": "code",
   "execution_count": 28,
   "id": "f77bb84b",
   "metadata": {},
   "outputs": [],
   "source": [
    "# create feature for price median and concatenate with dataset\n",
    "data = pd.DataFrame()\n",
    "\n",
    "data = df[['zipcode', 'price']].groupby('zipcode').median().reset_index()\n",
    "\n",
    "df2 = pd.merge(df, data, on = 'zipcode', how = 'inner')\n",
    "\n",
    "df2 = df2.rename(columns = {'price_x' : 'price', 'price_y' : 'price_median' })"
   ]
  },
  {
   "cell_type": "code",
   "execution_count": 33,
   "id": "9e5e69f4",
   "metadata": {
    "scrolled": true
   },
   "outputs": [],
   "source": [
    "# set conditions to buy or not\n",
    "for i in range(len(df2)):\n",
    "    if (df2.loc[i, 'price'] < df2.loc[i, 'price_median']) & ( df2.loc[i, 'condition'] >= 3): \n",
    "        df2.loc[i, 'status'] = 'buy'\n",
    "    else: \n",
    "        df2.loc[i, 'status'] = 'do not buy'"
   ]
  },
  {
   "cell_type": "code",
   "execution_count": 53,
   "id": "5aa0dc8d",
   "metadata": {
    "scrolled": true
   },
   "outputs": [
    {
     "data": {
      "text/html": [
       "<div>\n",
       "<style scoped>\n",
       "    .dataframe tbody tr th:only-of-type {\n",
       "        vertical-align: middle;\n",
       "    }\n",
       "\n",
       "    .dataframe tbody tr th {\n",
       "        vertical-align: top;\n",
       "    }\n",
       "\n",
       "    .dataframe thead th {\n",
       "        text-align: right;\n",
       "    }\n",
       "</style>\n",
       "<table border=\"1\" class=\"dataframe\">\n",
       "  <thead>\n",
       "    <tr style=\"text-align: right;\">\n",
       "      <th></th>\n",
       "      <th>id</th>\n",
       "      <th>date</th>\n",
       "      <th>condition</th>\n",
       "      <th>zipcode</th>\n",
       "      <th>price</th>\n",
       "      <th>price_median</th>\n",
       "    </tr>\n",
       "  </thead>\n",
       "  <tbody>\n",
       "    <tr>\n",
       "      <th>0</th>\n",
       "      <td>7129300520</td>\n",
       "      <td>2014-10-13</td>\n",
       "      <td>3</td>\n",
       "      <td>98178</td>\n",
       "      <td>221900.00</td>\n",
       "      <td>278277.00</td>\n",
       "    </tr>\n",
       "    <tr>\n",
       "      <th>1</th>\n",
       "      <td>4060000240</td>\n",
       "      <td>2014-06-23</td>\n",
       "      <td>4</td>\n",
       "      <td>98178</td>\n",
       "      <td>205425.00</td>\n",
       "      <td>278277.00</td>\n",
       "    </tr>\n",
       "    <tr>\n",
       "      <th>2</th>\n",
       "      <td>4058801670</td>\n",
       "      <td>2014-07-17</td>\n",
       "      <td>3</td>\n",
       "      <td>98178</td>\n",
       "      <td>445000.00</td>\n",
       "      <td>278277.00</td>\n",
       "    </tr>\n",
       "    <tr>\n",
       "      <th>3</th>\n",
       "      <td>2976800796</td>\n",
       "      <td>2014-09-25</td>\n",
       "      <td>3</td>\n",
       "      <td>98178</td>\n",
       "      <td>236000.00</td>\n",
       "      <td>278277.00</td>\n",
       "    </tr>\n",
       "    <tr>\n",
       "      <th>4</th>\n",
       "      <td>6874200960</td>\n",
       "      <td>2015-02-27</td>\n",
       "      <td>3</td>\n",
       "      <td>98178</td>\n",
       "      <td>170000.00</td>\n",
       "      <td>278277.00</td>\n",
       "    </tr>\n",
       "    <tr>\n",
       "      <th>...</th>\n",
       "      <td>...</td>\n",
       "      <td>...</td>\n",
       "      <td>...</td>\n",
       "      <td>...</td>\n",
       "      <td>...</td>\n",
       "      <td>...</td>\n",
       "    </tr>\n",
       "    <tr>\n",
       "      <th>21608</th>\n",
       "      <td>2525049086</td>\n",
       "      <td>2014-10-03</td>\n",
       "      <td>4</td>\n",
       "      <td>98039</td>\n",
       "      <td>2720000.00</td>\n",
       "      <td>1892500.00</td>\n",
       "    </tr>\n",
       "    <tr>\n",
       "      <th>21609</th>\n",
       "      <td>2525049113</td>\n",
       "      <td>2014-07-25</td>\n",
       "      <td>4</td>\n",
       "      <td>98039</td>\n",
       "      <td>1950000.00</td>\n",
       "      <td>1892500.00</td>\n",
       "    </tr>\n",
       "    <tr>\n",
       "      <th>21610</th>\n",
       "      <td>3262300485</td>\n",
       "      <td>2015-04-21</td>\n",
       "      <td>3</td>\n",
       "      <td>98039</td>\n",
       "      <td>2250000.00</td>\n",
       "      <td>1892500.00</td>\n",
       "    </tr>\n",
       "    <tr>\n",
       "      <th>21611</th>\n",
       "      <td>6447300365</td>\n",
       "      <td>2014-11-13</td>\n",
       "      <td>3</td>\n",
       "      <td>98039</td>\n",
       "      <td>2900000.00</td>\n",
       "      <td>1892500.00</td>\n",
       "    </tr>\n",
       "    <tr>\n",
       "      <th>21612</th>\n",
       "      <td>3262300818</td>\n",
       "      <td>2015-02-27</td>\n",
       "      <td>3</td>\n",
       "      <td>98039</td>\n",
       "      <td>1865000.00</td>\n",
       "      <td>1892500.00</td>\n",
       "    </tr>\n",
       "  </tbody>\n",
       "</table>\n",
       "<p>21613 rows × 6 columns</p>\n",
       "</div>"
      ],
      "text/plain": [
       "               id       date  condition  zipcode      price  price_median\n",
       "0      7129300520 2014-10-13          3    98178  221900.00     278277.00\n",
       "1      4060000240 2014-06-23          4    98178  205425.00     278277.00\n",
       "2      4058801670 2014-07-17          3    98178  445000.00     278277.00\n",
       "3      2976800796 2014-09-25          3    98178  236000.00     278277.00\n",
       "4      6874200960 2015-02-27          3    98178  170000.00     278277.00\n",
       "...           ...        ...        ...      ...        ...           ...\n",
       "21608  2525049086 2014-10-03          4    98039 2720000.00    1892500.00\n",
       "21609  2525049113 2014-07-25          4    98039 1950000.00    1892500.00\n",
       "21610  3262300485 2015-04-21          3    98039 2250000.00    1892500.00\n",
       "21611  6447300365 2014-11-13          3    98039 2900000.00    1892500.00\n",
       "21612  3262300818 2015-02-27          3    98039 1865000.00    1892500.00\n",
       "\n",
       "[21613 rows x 6 columns]"
      ]
     },
     "execution_count": 53,
     "metadata": {},
     "output_type": "execute_result"
    }
   ],
   "source": [
    "df2[['id', 'date', 'condition',  'zipcode', 'price', 'price_median']]"
   ]
  },
  {
   "cell_type": "code",
   "execution_count": 34,
   "id": "a3648266",
   "metadata": {},
   "outputs": [
    {
     "data": {
      "text/html": [
       "<div>\n",
       "<style scoped>\n",
       "    .dataframe tbody tr th:only-of-type {\n",
       "        vertical-align: middle;\n",
       "    }\n",
       "\n",
       "    .dataframe tbody tr th {\n",
       "        vertical-align: top;\n",
       "    }\n",
       "\n",
       "    .dataframe thead th {\n",
       "        text-align: right;\n",
       "    }\n",
       "</style>\n",
       "<table border=\"1\" class=\"dataframe\">\n",
       "  <thead>\n",
       "    <tr style=\"text-align: right;\">\n",
       "      <th></th>\n",
       "      <th>id</th>\n",
       "      <th>date</th>\n",
       "      <th>price</th>\n",
       "      <th>bedrooms</th>\n",
       "      <th>bathrooms</th>\n",
       "      <th>sqft_living</th>\n",
       "      <th>sqft_lot</th>\n",
       "      <th>floors</th>\n",
       "      <th>waterfront</th>\n",
       "      <th>view</th>\n",
       "      <th>...</th>\n",
       "      <th>zipcode</th>\n",
       "      <th>lat</th>\n",
       "      <th>long</th>\n",
       "      <th>waterview</th>\n",
       "      <th>yr_b_mean</th>\n",
       "      <th>has_basement</th>\n",
       "      <th>year</th>\n",
       "      <th>month</th>\n",
       "      <th>price_median</th>\n",
       "      <th>status</th>\n",
       "    </tr>\n",
       "  </thead>\n",
       "  <tbody>\n",
       "    <tr>\n",
       "      <th>21571</th>\n",
       "      <td>6447300225</td>\n",
       "      <td>2014-11-06</td>\n",
       "      <td>1880000.00</td>\n",
       "      <td>3</td>\n",
       "      <td>2.75</td>\n",
       "      <td>2620</td>\n",
       "      <td>17919</td>\n",
       "      <td>1.00</td>\n",
       "      <td>0</td>\n",
       "      <td>1</td>\n",
       "      <td>...</td>\n",
       "      <td>98039</td>\n",
       "      <td>47.61</td>\n",
       "      <td>-122.23</td>\n",
       "      <td>no</td>\n",
       "      <td>&lt; 1955</td>\n",
       "      <td>no</td>\n",
       "      <td>2014</td>\n",
       "      <td>11</td>\n",
       "      <td>1892500.00</td>\n",
       "      <td>buy</td>\n",
       "    </tr>\n",
       "    <tr>\n",
       "      <th>21601</th>\n",
       "      <td>2470200020</td>\n",
       "      <td>2014-05-14</td>\n",
       "      <td>1880000.00</td>\n",
       "      <td>4</td>\n",
       "      <td>2.75</td>\n",
       "      <td>3260</td>\n",
       "      <td>19542</td>\n",
       "      <td>1.00</td>\n",
       "      <td>0</td>\n",
       "      <td>0</td>\n",
       "      <td>...</td>\n",
       "      <td>98039</td>\n",
       "      <td>47.62</td>\n",
       "      <td>-122.24</td>\n",
       "      <td>no</td>\n",
       "      <td>&gt; 1955</td>\n",
       "      <td>yes</td>\n",
       "      <td>2014</td>\n",
       "      <td>5</td>\n",
       "      <td>1892500.00</td>\n",
       "      <td>buy</td>\n",
       "    </tr>\n",
       "    <tr>\n",
       "      <th>21612</th>\n",
       "      <td>3262300818</td>\n",
       "      <td>2015-02-27</td>\n",
       "      <td>1865000.00</td>\n",
       "      <td>4</td>\n",
       "      <td>3.75</td>\n",
       "      <td>3790</td>\n",
       "      <td>8797</td>\n",
       "      <td>2.00</td>\n",
       "      <td>0</td>\n",
       "      <td>0</td>\n",
       "      <td>...</td>\n",
       "      <td>98039</td>\n",
       "      <td>47.64</td>\n",
       "      <td>-122.24</td>\n",
       "      <td>no</td>\n",
       "      <td>&gt; 1955</td>\n",
       "      <td>yes</td>\n",
       "      <td>2015</td>\n",
       "      <td>2</td>\n",
       "      <td>1892500.00</td>\n",
       "      <td>buy</td>\n",
       "    </tr>\n",
       "    <tr>\n",
       "      <th>21584</th>\n",
       "      <td>5425700205</td>\n",
       "      <td>2014-05-20</td>\n",
       "      <td>1800000.00</td>\n",
       "      <td>4</td>\n",
       "      <td>3.50</td>\n",
       "      <td>4460</td>\n",
       "      <td>16953</td>\n",
       "      <td>1.00</td>\n",
       "      <td>0</td>\n",
       "      <td>0</td>\n",
       "      <td>...</td>\n",
       "      <td>98039</td>\n",
       "      <td>47.63</td>\n",
       "      <td>-122.23</td>\n",
       "      <td>no</td>\n",
       "      <td>&gt; 1955</td>\n",
       "      <td>yes</td>\n",
       "      <td>2014</td>\n",
       "      <td>5</td>\n",
       "      <td>1892500.00</td>\n",
       "      <td>buy</td>\n",
       "    </tr>\n",
       "    <tr>\n",
       "      <th>21586</th>\n",
       "      <td>2525049266</td>\n",
       "      <td>2014-08-21</td>\n",
       "      <td>1762000.00</td>\n",
       "      <td>3</td>\n",
       "      <td>2.25</td>\n",
       "      <td>3060</td>\n",
       "      <td>16000</td>\n",
       "      <td>2.00</td>\n",
       "      <td>0</td>\n",
       "      <td>0</td>\n",
       "      <td>...</td>\n",
       "      <td>98039</td>\n",
       "      <td>47.62</td>\n",
       "      <td>-122.23</td>\n",
       "      <td>no</td>\n",
       "      <td>&gt; 1955</td>\n",
       "      <td>no</td>\n",
       "      <td>2014</td>\n",
       "      <td>8</td>\n",
       "      <td>1892500.00</td>\n",
       "      <td>buy</td>\n",
       "    </tr>\n",
       "    <tr>\n",
       "      <th>...</th>\n",
       "      <td>...</td>\n",
       "      <td>...</td>\n",
       "      <td>...</td>\n",
       "      <td>...</td>\n",
       "      <td>...</td>\n",
       "      <td>...</td>\n",
       "      <td>...</td>\n",
       "      <td>...</td>\n",
       "      <td>...</td>\n",
       "      <td>...</td>\n",
       "      <td>...</td>\n",
       "      <td>...</td>\n",
       "      <td>...</td>\n",
       "      <td>...</td>\n",
       "      <td>...</td>\n",
       "      <td>...</td>\n",
       "      <td>...</td>\n",
       "      <td>...</td>\n",
       "      <td>...</td>\n",
       "      <td>...</td>\n",
       "      <td>...</td>\n",
       "    </tr>\n",
       "    <tr>\n",
       "      <th>16228</th>\n",
       "      <td>2422049104</td>\n",
       "      <td>2014-09-15</td>\n",
       "      <td>85000.00</td>\n",
       "      <td>2</td>\n",
       "      <td>1.00</td>\n",
       "      <td>830</td>\n",
       "      <td>9000</td>\n",
       "      <td>1.00</td>\n",
       "      <td>0</td>\n",
       "      <td>0</td>\n",
       "      <td>...</td>\n",
       "      <td>98032</td>\n",
       "      <td>47.38</td>\n",
       "      <td>-122.24</td>\n",
       "      <td>no</td>\n",
       "      <td>&lt; 1955</td>\n",
       "      <td>no</td>\n",
       "      <td>2014</td>\n",
       "      <td>9</td>\n",
       "      <td>249000.00</td>\n",
       "      <td>buy</td>\n",
       "    </tr>\n",
       "    <tr>\n",
       "      <th>17054</th>\n",
       "      <td>1523049188</td>\n",
       "      <td>2015-04-30</td>\n",
       "      <td>84000.00</td>\n",
       "      <td>2</td>\n",
       "      <td>1.00</td>\n",
       "      <td>700</td>\n",
       "      <td>20130</td>\n",
       "      <td>1.00</td>\n",
       "      <td>0</td>\n",
       "      <td>0</td>\n",
       "      <td>...</td>\n",
       "      <td>98168</td>\n",
       "      <td>47.48</td>\n",
       "      <td>-122.27</td>\n",
       "      <td>no</td>\n",
       "      <td>&lt; 1955</td>\n",
       "      <td>no</td>\n",
       "      <td>2015</td>\n",
       "      <td>4</td>\n",
       "      <td>235000.00</td>\n",
       "      <td>buy</td>\n",
       "    </tr>\n",
       "    <tr>\n",
       "      <th>17253</th>\n",
       "      <td>7999600180</td>\n",
       "      <td>2014-05-29</td>\n",
       "      <td>83000.00</td>\n",
       "      <td>2</td>\n",
       "      <td>1.00</td>\n",
       "      <td>900</td>\n",
       "      <td>8580</td>\n",
       "      <td>1.00</td>\n",
       "      <td>0</td>\n",
       "      <td>0</td>\n",
       "      <td>...</td>\n",
       "      <td>98168</td>\n",
       "      <td>47.47</td>\n",
       "      <td>-122.27</td>\n",
       "      <td>no</td>\n",
       "      <td>&lt; 1955</td>\n",
       "      <td>no</td>\n",
       "      <td>2014</td>\n",
       "      <td>5</td>\n",
       "      <td>235000.00</td>\n",
       "      <td>buy</td>\n",
       "    </tr>\n",
       "    <tr>\n",
       "      <th>2725</th>\n",
       "      <td>3883800011</td>\n",
       "      <td>2014-11-05</td>\n",
       "      <td>82000.00</td>\n",
       "      <td>3</td>\n",
       "      <td>1.00</td>\n",
       "      <td>860</td>\n",
       "      <td>10426</td>\n",
       "      <td>1.00</td>\n",
       "      <td>0</td>\n",
       "      <td>0</td>\n",
       "      <td>...</td>\n",
       "      <td>98146</td>\n",
       "      <td>47.50</td>\n",
       "      <td>-122.34</td>\n",
       "      <td>no</td>\n",
       "      <td>&lt; 1955</td>\n",
       "      <td>no</td>\n",
       "      <td>2014</td>\n",
       "      <td>11</td>\n",
       "      <td>305000.00</td>\n",
       "      <td>buy</td>\n",
       "    </tr>\n",
       "    <tr>\n",
       "      <th>18777</th>\n",
       "      <td>3421079032</td>\n",
       "      <td>2015-02-17</td>\n",
       "      <td>75000.00</td>\n",
       "      <td>1</td>\n",
       "      <td>0.00</td>\n",
       "      <td>670</td>\n",
       "      <td>43377</td>\n",
       "      <td>1.00</td>\n",
       "      <td>0</td>\n",
       "      <td>0</td>\n",
       "      <td>...</td>\n",
       "      <td>98022</td>\n",
       "      <td>47.26</td>\n",
       "      <td>-121.91</td>\n",
       "      <td>no</td>\n",
       "      <td>&gt; 1955</td>\n",
       "      <td>no</td>\n",
       "      <td>2015</td>\n",
       "      <td>2</td>\n",
       "      <td>279500.00</td>\n",
       "      <td>buy</td>\n",
       "    </tr>\n",
       "  </tbody>\n",
       "</table>\n",
       "<p>10579 rows × 26 columns</p>\n",
       "</div>"
      ],
      "text/plain": [
       "               id       date      price  bedrooms  bathrooms  sqft_living  \\\n",
       "21571  6447300225 2014-11-06 1880000.00         3       2.75         2620   \n",
       "21601  2470200020 2014-05-14 1880000.00         4       2.75         3260   \n",
       "21612  3262300818 2015-02-27 1865000.00         4       3.75         3790   \n",
       "21584  5425700205 2014-05-20 1800000.00         4       3.50         4460   \n",
       "21586  2525049266 2014-08-21 1762000.00         3       2.25         3060   \n",
       "...           ...        ...        ...       ...        ...          ...   \n",
       "16228  2422049104 2014-09-15   85000.00         2       1.00          830   \n",
       "17054  1523049188 2015-04-30   84000.00         2       1.00          700   \n",
       "17253  7999600180 2014-05-29   83000.00         2       1.00          900   \n",
       "2725   3883800011 2014-11-05   82000.00         3       1.00          860   \n",
       "18777  3421079032 2015-02-17   75000.00         1       0.00          670   \n",
       "\n",
       "       sqft_lot  floors  waterfront  view  ...  zipcode   lat    long  \\\n",
       "21571     17919    1.00           0     1  ...    98039 47.61 -122.23   \n",
       "21601     19542    1.00           0     0  ...    98039 47.62 -122.24   \n",
       "21612      8797    2.00           0     0  ...    98039 47.64 -122.24   \n",
       "21584     16953    1.00           0     0  ...    98039 47.63 -122.23   \n",
       "21586     16000    2.00           0     0  ...    98039 47.62 -122.23   \n",
       "...         ...     ...         ...   ...  ...      ...   ...     ...   \n",
       "16228      9000    1.00           0     0  ...    98032 47.38 -122.24   \n",
       "17054     20130    1.00           0     0  ...    98168 47.48 -122.27   \n",
       "17253      8580    1.00           0     0  ...    98168 47.47 -122.27   \n",
       "2725      10426    1.00           0     0  ...    98146 47.50 -122.34   \n",
       "18777     43377    1.00           0     0  ...    98022 47.26 -121.91   \n",
       "\n",
       "       waterview  yr_b_mean  has_basement  year  month  price_median status  \n",
       "21571         no     < 1955            no  2014     11    1892500.00    buy  \n",
       "21601         no     > 1955           yes  2014      5    1892500.00    buy  \n",
       "21612         no     > 1955           yes  2015      2    1892500.00    buy  \n",
       "21584         no     > 1955           yes  2014      5    1892500.00    buy  \n",
       "21586         no     > 1955            no  2014      8    1892500.00    buy  \n",
       "...          ...        ...           ...   ...    ...           ...    ...  \n",
       "16228         no     < 1955            no  2014      9     249000.00    buy  \n",
       "17054         no     < 1955            no  2015      4     235000.00    buy  \n",
       "17253         no     < 1955            no  2014      5     235000.00    buy  \n",
       "2725          no     < 1955            no  2014     11     305000.00    buy  \n",
       "18777         no     > 1955            no  2015      2     279500.00    buy  \n",
       "\n",
       "[10579 rows x 26 columns]"
      ]
     },
     "execution_count": 34,
     "metadata": {},
     "output_type": "execute_result"
    }
   ],
   "source": [
    "df2[df2['status'] == 'buy'].sort_values(by = 'price', ascending = False)"
   ]
  },
  {
   "cell_type": "markdown",
   "id": "ffecfce6",
   "metadata": {},
   "source": [
    "# 3.2 Uma vez comprado, qual o melhor momento para vendê-lo e por qual preço?"
   ]
  },
  {
   "cell_type": "code",
   "execution_count": 35,
   "id": "c203875b",
   "metadata": {},
   "outputs": [],
   "source": [
    "# categorize by season available\n",
    "df2['season'] = df2['month'].apply( lambda x :'Spring' if ( x >= 3) & (x <= 5) else 'Summer' if(x >= 6) & (x <= 8)\n",
    "                                             else 'Autumn' if (x >= 9) & (x <= 11) else 'Winter' ) "
   ]
  },
  {
   "cell_type": "code",
   "execution_count": 37,
   "id": "b2a117be",
   "metadata": {},
   "outputs": [],
   "source": [
    "df3 = df2.copy()\n",
    "b4 = df3[df3['status'] == 'buy']"
   ]
  },
  {
   "cell_type": "code",
   "execution_count": 46,
   "id": "5a59211a",
   "metadata": {},
   "outputs": [],
   "source": [
    "b2 = b4[['season', 'zipcode', 'price']].groupby(['zipcode', 'season']).median().reset_index()\n",
    "\n",
    "b5 = pd.merge(b4, b2, on = ['season', 'zipcode'], how = 'inner')\n",
    "\n",
    "b5 = b5.rename(columns = {'price_x' : 'price', 'price_y' : 'price_median_season'})\n"
   ]
  },
  {
   "cell_type": "code",
   "execution_count": 49,
   "id": "6d49d577",
   "metadata": {},
   "outputs": [],
   "source": [
    "for i in range(len(b5)):\n",
    "    if (b5.loc[i, 'price_median_season'] < b5.loc[i, 'price']):\n",
    "        \n",
    "        b5.loc[i, 'Sell Price'] = (b5.loc[i, 'price'] * 1.3)\n",
    "        \n",
    "        b5.loc[i, 'Profit'] = (b5.loc[i, 'price'] * 0.3)\n",
    "        \n",
    "    else:\n",
    "        \n",
    "        b5.loc[i, 'Sell Price'] = (b5.loc[i, 'price'] * 1.1)\n",
    "        \n",
    "        b5.loc[i, 'Profit'] = (b5.loc[i, 'price'] * 0.1)\n"
   ]
  },
  {
   "cell_type": "code",
   "execution_count": 50,
   "id": "373e925f",
   "metadata": {},
   "outputs": [
    {
     "data": {
      "text/html": [
       "<div>\n",
       "<style scoped>\n",
       "    .dataframe tbody tr th:only-of-type {\n",
       "        vertical-align: middle;\n",
       "    }\n",
       "\n",
       "    .dataframe tbody tr th {\n",
       "        vertical-align: top;\n",
       "    }\n",
       "\n",
       "    .dataframe thead th {\n",
       "        text-align: right;\n",
       "    }\n",
       "</style>\n",
       "<table border=\"1\" class=\"dataframe\">\n",
       "  <thead>\n",
       "    <tr style=\"text-align: right;\">\n",
       "      <th></th>\n",
       "      <th>id</th>\n",
       "      <th>date</th>\n",
       "      <th>price</th>\n",
       "      <th>bedrooms</th>\n",
       "      <th>bathrooms</th>\n",
       "      <th>sqft_living</th>\n",
       "      <th>sqft_lot</th>\n",
       "      <th>floors</th>\n",
       "      <th>waterfront</th>\n",
       "      <th>view</th>\n",
       "      <th>...</th>\n",
       "      <th>yr_b_mean</th>\n",
       "      <th>has_basement</th>\n",
       "      <th>year</th>\n",
       "      <th>month</th>\n",
       "      <th>price_median</th>\n",
       "      <th>status</th>\n",
       "      <th>season</th>\n",
       "      <th>price_median_season</th>\n",
       "      <th>Sell Price</th>\n",
       "      <th>Profit</th>\n",
       "    </tr>\n",
       "  </thead>\n",
       "  <tbody>\n",
       "    <tr>\n",
       "      <th>0</th>\n",
       "      <td>7129300520</td>\n",
       "      <td>2014-10-13</td>\n",
       "      <td>221900.00</td>\n",
       "      <td>3</td>\n",
       "      <td>1.00</td>\n",
       "      <td>1180</td>\n",
       "      <td>5650</td>\n",
       "      <td>1.00</td>\n",
       "      <td>0</td>\n",
       "      <td>0</td>\n",
       "      <td>...</td>\n",
       "      <td>&gt; 1955</td>\n",
       "      <td>no</td>\n",
       "      <td>2014</td>\n",
       "      <td>10</td>\n",
       "      <td>278277.00</td>\n",
       "      <td>buy</td>\n",
       "      <td>Autumn</td>\n",
       "      <td>213250.00</td>\n",
       "      <td>288470.00</td>\n",
       "      <td>66570.00</td>\n",
       "    </tr>\n",
       "    <tr>\n",
       "      <th>1</th>\n",
       "      <td>2976800796</td>\n",
       "      <td>2014-09-25</td>\n",
       "      <td>236000.00</td>\n",
       "      <td>3</td>\n",
       "      <td>1.00</td>\n",
       "      <td>1300</td>\n",
       "      <td>5898</td>\n",
       "      <td>1.00</td>\n",
       "      <td>0</td>\n",
       "      <td>0</td>\n",
       "      <td>...</td>\n",
       "      <td>&gt; 1955</td>\n",
       "      <td>no</td>\n",
       "      <td>2014</td>\n",
       "      <td>9</td>\n",
       "      <td>278277.00</td>\n",
       "      <td>buy</td>\n",
       "      <td>Autumn</td>\n",
       "      <td>213250.00</td>\n",
       "      <td>306800.00</td>\n",
       "      <td>70800.00</td>\n",
       "    </tr>\n",
       "    <tr>\n",
       "      <th>2</th>\n",
       "      <td>1180003090</td>\n",
       "      <td>2014-09-06</td>\n",
       "      <td>190000.00</td>\n",
       "      <td>2</td>\n",
       "      <td>1.00</td>\n",
       "      <td>630</td>\n",
       "      <td>6000</td>\n",
       "      <td>1.00</td>\n",
       "      <td>0</td>\n",
       "      <td>0</td>\n",
       "      <td>...</td>\n",
       "      <td>&lt; 1955</td>\n",
       "      <td>no</td>\n",
       "      <td>2014</td>\n",
       "      <td>9</td>\n",
       "      <td>278277.00</td>\n",
       "      <td>buy</td>\n",
       "      <td>Autumn</td>\n",
       "      <td>213250.00</td>\n",
       "      <td>209000.00</td>\n",
       "      <td>19000.00</td>\n",
       "    </tr>\n",
       "    <tr>\n",
       "      <th>3</th>\n",
       "      <td>179000350</td>\n",
       "      <td>2014-11-05</td>\n",
       "      <td>194000.00</td>\n",
       "      <td>3</td>\n",
       "      <td>1.50</td>\n",
       "      <td>1010</td>\n",
       "      <td>5000</td>\n",
       "      <td>1.00</td>\n",
       "      <td>0</td>\n",
       "      <td>0</td>\n",
       "      <td>...</td>\n",
       "      <td>&lt; 1955</td>\n",
       "      <td>no</td>\n",
       "      <td>2014</td>\n",
       "      <td>11</td>\n",
       "      <td>278277.00</td>\n",
       "      <td>buy</td>\n",
       "      <td>Autumn</td>\n",
       "      <td>213250.00</td>\n",
       "      <td>213400.00</td>\n",
       "      <td>19400.00</td>\n",
       "    </tr>\n",
       "    <tr>\n",
       "      <th>4</th>\n",
       "      <td>3810000202</td>\n",
       "      <td>2014-09-05</td>\n",
       "      <td>251700.00</td>\n",
       "      <td>3</td>\n",
       "      <td>2.25</td>\n",
       "      <td>1810</td>\n",
       "      <td>11800</td>\n",
       "      <td>1.00</td>\n",
       "      <td>0</td>\n",
       "      <td>0</td>\n",
       "      <td>...</td>\n",
       "      <td>&gt; 1955</td>\n",
       "      <td>yes</td>\n",
       "      <td>2014</td>\n",
       "      <td>9</td>\n",
       "      <td>278277.00</td>\n",
       "      <td>buy</td>\n",
       "      <td>Autumn</td>\n",
       "      <td>213250.00</td>\n",
       "      <td>327210.00</td>\n",
       "      <td>75510.00</td>\n",
       "    </tr>\n",
       "    <tr>\n",
       "      <th>...</th>\n",
       "      <td>...</td>\n",
       "      <td>...</td>\n",
       "      <td>...</td>\n",
       "      <td>...</td>\n",
       "      <td>...</td>\n",
       "      <td>...</td>\n",
       "      <td>...</td>\n",
       "      <td>...</td>\n",
       "      <td>...</td>\n",
       "      <td>...</td>\n",
       "      <td>...</td>\n",
       "      <td>...</td>\n",
       "      <td>...</td>\n",
       "      <td>...</td>\n",
       "      <td>...</td>\n",
       "      <td>...</td>\n",
       "      <td>...</td>\n",
       "      <td>...</td>\n",
       "      <td>...</td>\n",
       "      <td>...</td>\n",
       "      <td>...</td>\n",
       "    </tr>\n",
       "    <tr>\n",
       "      <th>10574</th>\n",
       "      <td>5425700150</td>\n",
       "      <td>2014-08-04</td>\n",
       "      <td>787500.00</td>\n",
       "      <td>4</td>\n",
       "      <td>1.75</td>\n",
       "      <td>1580</td>\n",
       "      <td>9382</td>\n",
       "      <td>1.00</td>\n",
       "      <td>0</td>\n",
       "      <td>0</td>\n",
       "      <td>...</td>\n",
       "      <td>&gt; 1955</td>\n",
       "      <td>yes</td>\n",
       "      <td>2014</td>\n",
       "      <td>8</td>\n",
       "      <td>1892500.00</td>\n",
       "      <td>buy</td>\n",
       "      <td>Summer</td>\n",
       "      <td>1335000.00</td>\n",
       "      <td>866250.00</td>\n",
       "      <td>78750.00</td>\n",
       "    </tr>\n",
       "    <tr>\n",
       "      <th>10575</th>\n",
       "      <td>2525049266</td>\n",
       "      <td>2014-08-21</td>\n",
       "      <td>1762000.00</td>\n",
       "      <td>3</td>\n",
       "      <td>2.25</td>\n",
       "      <td>3060</td>\n",
       "      <td>16000</td>\n",
       "      <td>2.00</td>\n",
       "      <td>0</td>\n",
       "      <td>0</td>\n",
       "      <td>...</td>\n",
       "      <td>&gt; 1955</td>\n",
       "      <td>no</td>\n",
       "      <td>2014</td>\n",
       "      <td>8</td>\n",
       "      <td>1892500.00</td>\n",
       "      <td>buy</td>\n",
       "      <td>Summer</td>\n",
       "      <td>1335000.00</td>\n",
       "      <td>2290600.00</td>\n",
       "      <td>528600.00</td>\n",
       "    </tr>\n",
       "    <tr>\n",
       "      <th>10576</th>\n",
       "      <td>5427110040</td>\n",
       "      <td>2014-06-09</td>\n",
       "      <td>1225000.00</td>\n",
       "      <td>4</td>\n",
       "      <td>2.50</td>\n",
       "      <td>2740</td>\n",
       "      <td>16007</td>\n",
       "      <td>2.00</td>\n",
       "      <td>0</td>\n",
       "      <td>0</td>\n",
       "      <td>...</td>\n",
       "      <td>&gt; 1955</td>\n",
       "      <td>no</td>\n",
       "      <td>2014</td>\n",
       "      <td>6</td>\n",
       "      <td>1892500.00</td>\n",
       "      <td>buy</td>\n",
       "      <td>Summer</td>\n",
       "      <td>1335000.00</td>\n",
       "      <td>1347500.00</td>\n",
       "      <td>122500.00</td>\n",
       "    </tr>\n",
       "    <tr>\n",
       "      <th>10577</th>\n",
       "      <td>3625049079</td>\n",
       "      <td>2014-08-01</td>\n",
       "      <td>1350000.00</td>\n",
       "      <td>3</td>\n",
       "      <td>2.00</td>\n",
       "      <td>2070</td>\n",
       "      <td>9600</td>\n",
       "      <td>1.00</td>\n",
       "      <td>0</td>\n",
       "      <td>1</td>\n",
       "      <td>...</td>\n",
       "      <td>&lt; 1955</td>\n",
       "      <td>yes</td>\n",
       "      <td>2014</td>\n",
       "      <td>8</td>\n",
       "      <td>1892500.00</td>\n",
       "      <td>buy</td>\n",
       "      <td>Summer</td>\n",
       "      <td>1335000.00</td>\n",
       "      <td>1755000.00</td>\n",
       "      <td>405000.00</td>\n",
       "    </tr>\n",
       "    <tr>\n",
       "      <th>10578</th>\n",
       "      <td>5427100150</td>\n",
       "      <td>2014-06-26</td>\n",
       "      <td>1410000.00</td>\n",
       "      <td>4</td>\n",
       "      <td>2.25</td>\n",
       "      <td>3250</td>\n",
       "      <td>16684</td>\n",
       "      <td>2.00</td>\n",
       "      <td>0</td>\n",
       "      <td>0</td>\n",
       "      <td>...</td>\n",
       "      <td>&gt; 1955</td>\n",
       "      <td>no</td>\n",
       "      <td>2014</td>\n",
       "      <td>6</td>\n",
       "      <td>1892500.00</td>\n",
       "      <td>buy</td>\n",
       "      <td>Summer</td>\n",
       "      <td>1335000.00</td>\n",
       "      <td>1833000.00</td>\n",
       "      <td>423000.00</td>\n",
       "    </tr>\n",
       "  </tbody>\n",
       "</table>\n",
       "<p>10579 rows × 30 columns</p>\n",
       "</div>"
      ],
      "text/plain": [
       "               id       date      price  bedrooms  bathrooms  sqft_living  \\\n",
       "0      7129300520 2014-10-13  221900.00         3       1.00         1180   \n",
       "1      2976800796 2014-09-25  236000.00         3       1.00         1300   \n",
       "2      1180003090 2014-09-06  190000.00         2       1.00          630   \n",
       "3       179000350 2014-11-05  194000.00         3       1.50         1010   \n",
       "4      3810000202 2014-09-05  251700.00         3       2.25         1810   \n",
       "...           ...        ...        ...       ...        ...          ...   \n",
       "10574  5425700150 2014-08-04  787500.00         4       1.75         1580   \n",
       "10575  2525049266 2014-08-21 1762000.00         3       2.25         3060   \n",
       "10576  5427110040 2014-06-09 1225000.00         4       2.50         2740   \n",
       "10577  3625049079 2014-08-01 1350000.00         3       2.00         2070   \n",
       "10578  5427100150 2014-06-26 1410000.00         4       2.25         3250   \n",
       "\n",
       "       sqft_lot  floors  waterfront  view  ...  yr_b_mean  has_basement  year  \\\n",
       "0          5650    1.00           0     0  ...     > 1955            no  2014   \n",
       "1          5898    1.00           0     0  ...     > 1955            no  2014   \n",
       "2          6000    1.00           0     0  ...     < 1955            no  2014   \n",
       "3          5000    1.00           0     0  ...     < 1955            no  2014   \n",
       "4         11800    1.00           0     0  ...     > 1955           yes  2014   \n",
       "...         ...     ...         ...   ...  ...        ...           ...   ...   \n",
       "10574      9382    1.00           0     0  ...     > 1955           yes  2014   \n",
       "10575     16000    2.00           0     0  ...     > 1955            no  2014   \n",
       "10576     16007    2.00           0     0  ...     > 1955            no  2014   \n",
       "10577      9600    1.00           0     1  ...     < 1955           yes  2014   \n",
       "10578     16684    2.00           0     0  ...     > 1955            no  2014   \n",
       "\n",
       "       month  price_median  status  season  price_median_season  Sell Price  \\\n",
       "0         10     278277.00     buy  Autumn            213250.00   288470.00   \n",
       "1          9     278277.00     buy  Autumn            213250.00   306800.00   \n",
       "2          9     278277.00     buy  Autumn            213250.00   209000.00   \n",
       "3         11     278277.00     buy  Autumn            213250.00   213400.00   \n",
       "4          9     278277.00     buy  Autumn            213250.00   327210.00   \n",
       "...      ...           ...     ...     ...                  ...         ...   \n",
       "10574      8    1892500.00     buy  Summer           1335000.00   866250.00   \n",
       "10575      8    1892500.00     buy  Summer           1335000.00  2290600.00   \n",
       "10576      6    1892500.00     buy  Summer           1335000.00  1347500.00   \n",
       "10577      8    1892500.00     buy  Summer           1335000.00  1755000.00   \n",
       "10578      6    1892500.00     buy  Summer           1335000.00  1833000.00   \n",
       "\n",
       "         Profit  \n",
       "0      66570.00  \n",
       "1      70800.00  \n",
       "2      19000.00  \n",
       "3      19400.00  \n",
       "4      75510.00  \n",
       "...         ...  \n",
       "10574  78750.00  \n",
       "10575 528600.00  \n",
       "10576 122500.00  \n",
       "10577 405000.00  \n",
       "10578 423000.00  \n",
       "\n",
       "[10579 rows x 30 columns]"
      ]
     },
     "execution_count": 50,
     "metadata": {},
     "output_type": "execute_result"
    }
   ],
   "source": [
    "b5"
   ]
  },
  {
   "cell_type": "code",
   "execution_count": 52,
   "id": "7a5cf752",
   "metadata": {},
   "outputs": [
    {
     "data": {
      "text/html": [
       "<div>\n",
       "<style scoped>\n",
       "    .dataframe tbody tr th:only-of-type {\n",
       "        vertical-align: middle;\n",
       "    }\n",
       "\n",
       "    .dataframe tbody tr th {\n",
       "        vertical-align: top;\n",
       "    }\n",
       "\n",
       "    .dataframe thead th {\n",
       "        text-align: right;\n",
       "    }\n",
       "</style>\n",
       "<table border=\"1\" class=\"dataframe\">\n",
       "  <thead>\n",
       "    <tr style=\"text-align: right;\">\n",
       "      <th></th>\n",
       "      <th>id</th>\n",
       "      <th>date</th>\n",
       "      <th>season</th>\n",
       "      <th>zipcode</th>\n",
       "      <th>price</th>\n",
       "      <th>price_median</th>\n",
       "      <th>price_median_season</th>\n",
       "      <th>Sell Price</th>\n",
       "      <th>Profit</th>\n",
       "    </tr>\n",
       "  </thead>\n",
       "  <tbody>\n",
       "    <tr>\n",
       "      <th>0</th>\n",
       "      <td>7129300520</td>\n",
       "      <td>2014-10-13</td>\n",
       "      <td>Autumn</td>\n",
       "      <td>98178</td>\n",
       "      <td>221900.00</td>\n",
       "      <td>278277.00</td>\n",
       "      <td>213250.00</td>\n",
       "      <td>288470.00</td>\n",
       "      <td>66570.00</td>\n",
       "    </tr>\n",
       "    <tr>\n",
       "      <th>1</th>\n",
       "      <td>2976800796</td>\n",
       "      <td>2014-09-25</td>\n",
       "      <td>Autumn</td>\n",
       "      <td>98178</td>\n",
       "      <td>236000.00</td>\n",
       "      <td>278277.00</td>\n",
       "      <td>213250.00</td>\n",
       "      <td>306800.00</td>\n",
       "      <td>70800.00</td>\n",
       "    </tr>\n",
       "    <tr>\n",
       "      <th>2</th>\n",
       "      <td>1180003090</td>\n",
       "      <td>2014-09-06</td>\n",
       "      <td>Autumn</td>\n",
       "      <td>98178</td>\n",
       "      <td>190000.00</td>\n",
       "      <td>278277.00</td>\n",
       "      <td>213250.00</td>\n",
       "      <td>209000.00</td>\n",
       "      <td>19000.00</td>\n",
       "    </tr>\n",
       "    <tr>\n",
       "      <th>3</th>\n",
       "      <td>179000350</td>\n",
       "      <td>2014-11-05</td>\n",
       "      <td>Autumn</td>\n",
       "      <td>98178</td>\n",
       "      <td>194000.00</td>\n",
       "      <td>278277.00</td>\n",
       "      <td>213250.00</td>\n",
       "      <td>213400.00</td>\n",
       "      <td>19400.00</td>\n",
       "    </tr>\n",
       "    <tr>\n",
       "      <th>4</th>\n",
       "      <td>3810000202</td>\n",
       "      <td>2014-09-05</td>\n",
       "      <td>Autumn</td>\n",
       "      <td>98178</td>\n",
       "      <td>251700.00</td>\n",
       "      <td>278277.00</td>\n",
       "      <td>213250.00</td>\n",
       "      <td>327210.00</td>\n",
       "      <td>75510.00</td>\n",
       "    </tr>\n",
       "    <tr>\n",
       "      <th>...</th>\n",
       "      <td>...</td>\n",
       "      <td>...</td>\n",
       "      <td>...</td>\n",
       "      <td>...</td>\n",
       "      <td>...</td>\n",
       "      <td>...</td>\n",
       "      <td>...</td>\n",
       "      <td>...</td>\n",
       "      <td>...</td>\n",
       "    </tr>\n",
       "    <tr>\n",
       "      <th>10574</th>\n",
       "      <td>5425700150</td>\n",
       "      <td>2014-08-04</td>\n",
       "      <td>Summer</td>\n",
       "      <td>98039</td>\n",
       "      <td>787500.00</td>\n",
       "      <td>1892500.00</td>\n",
       "      <td>1335000.00</td>\n",
       "      <td>866250.00</td>\n",
       "      <td>78750.00</td>\n",
       "    </tr>\n",
       "    <tr>\n",
       "      <th>10575</th>\n",
       "      <td>2525049266</td>\n",
       "      <td>2014-08-21</td>\n",
       "      <td>Summer</td>\n",
       "      <td>98039</td>\n",
       "      <td>1762000.00</td>\n",
       "      <td>1892500.00</td>\n",
       "      <td>1335000.00</td>\n",
       "      <td>2290600.00</td>\n",
       "      <td>528600.00</td>\n",
       "    </tr>\n",
       "    <tr>\n",
       "      <th>10576</th>\n",
       "      <td>5427110040</td>\n",
       "      <td>2014-06-09</td>\n",
       "      <td>Summer</td>\n",
       "      <td>98039</td>\n",
       "      <td>1225000.00</td>\n",
       "      <td>1892500.00</td>\n",
       "      <td>1335000.00</td>\n",
       "      <td>1347500.00</td>\n",
       "      <td>122500.00</td>\n",
       "    </tr>\n",
       "    <tr>\n",
       "      <th>10577</th>\n",
       "      <td>3625049079</td>\n",
       "      <td>2014-08-01</td>\n",
       "      <td>Summer</td>\n",
       "      <td>98039</td>\n",
       "      <td>1350000.00</td>\n",
       "      <td>1892500.00</td>\n",
       "      <td>1335000.00</td>\n",
       "      <td>1755000.00</td>\n",
       "      <td>405000.00</td>\n",
       "    </tr>\n",
       "    <tr>\n",
       "      <th>10578</th>\n",
       "      <td>5427100150</td>\n",
       "      <td>2014-06-26</td>\n",
       "      <td>Summer</td>\n",
       "      <td>98039</td>\n",
       "      <td>1410000.00</td>\n",
       "      <td>1892500.00</td>\n",
       "      <td>1335000.00</td>\n",
       "      <td>1833000.00</td>\n",
       "      <td>423000.00</td>\n",
       "    </tr>\n",
       "  </tbody>\n",
       "</table>\n",
       "<p>10579 rows × 9 columns</p>\n",
       "</div>"
      ],
      "text/plain": [
       "               id       date  season  zipcode      price  price_median  \\\n",
       "0      7129300520 2014-10-13  Autumn    98178  221900.00     278277.00   \n",
       "1      2976800796 2014-09-25  Autumn    98178  236000.00     278277.00   \n",
       "2      1180003090 2014-09-06  Autumn    98178  190000.00     278277.00   \n",
       "3       179000350 2014-11-05  Autumn    98178  194000.00     278277.00   \n",
       "4      3810000202 2014-09-05  Autumn    98178  251700.00     278277.00   \n",
       "...           ...        ...     ...      ...        ...           ...   \n",
       "10574  5425700150 2014-08-04  Summer    98039  787500.00    1892500.00   \n",
       "10575  2525049266 2014-08-21  Summer    98039 1762000.00    1892500.00   \n",
       "10576  5427110040 2014-06-09  Summer    98039 1225000.00    1892500.00   \n",
       "10577  3625049079 2014-08-01  Summer    98039 1350000.00    1892500.00   \n",
       "10578  5427100150 2014-06-26  Summer    98039 1410000.00    1892500.00   \n",
       "\n",
       "       price_median_season  Sell Price    Profit  \n",
       "0                213250.00   288470.00  66570.00  \n",
       "1                213250.00   306800.00  70800.00  \n",
       "2                213250.00   209000.00  19000.00  \n",
       "3                213250.00   213400.00  19400.00  \n",
       "4                213250.00   327210.00  75510.00  \n",
       "...                    ...         ...       ...  \n",
       "10574           1335000.00   866250.00  78750.00  \n",
       "10575           1335000.00  2290600.00 528600.00  \n",
       "10576           1335000.00  1347500.00 122500.00  \n",
       "10577           1335000.00  1755000.00 405000.00  \n",
       "10578           1335000.00  1833000.00 423000.00  \n",
       "\n",
       "[10579 rows x 9 columns]"
      ]
     },
     "execution_count": 52,
     "metadata": {},
     "output_type": "execute_result"
    }
   ],
   "source": [
    "b5[['id', 'date','season', 'zipcode', 'price', 'price_median', 'price_median_season', 'Sell Price', 'Profit']]"
   ]
  },
  {
   "cell_type": "code",
   "execution_count": 57,
   "id": "3273c895",
   "metadata": {
    "scrolled": false
   },
   "outputs": [
    {
     "data": {
      "application/vnd.plotly.v1+json": {
       "config": {
        "plotlyServerURL": "https://plot.ly"
       },
       "data": [
        {
         "alignmentgroup": "True",
         "hovertemplate": "season=%{x}<br>price=%{y}<extra></extra>",
         "legendgroup": "",
         "marker": {
          "color": "#636efa",
          "pattern": {
           "shape": ""
          }
         },
         "name": "",
         "offsetgroup": "",
         "orientation": "v",
         "showlegend": false,
         "textposition": "auto",
         "type": "bar",
         "x": [
          "Autumn",
          "Spring",
          "Summer",
          "Winter"
         ],
         "xaxis": "x",
         "y": [
          359000,
          361000,
          367450,
          340000
         ],
         "yaxis": "y"
        }
       ],
       "layout": {
        "barmode": "relative",
        "height": 700,
        "legend": {
         "tracegroupgap": 0
        },
        "template": {
         "data": {
          "bar": [
           {
            "error_x": {
             "color": "#2a3f5f"
            },
            "error_y": {
             "color": "#2a3f5f"
            },
            "marker": {
             "line": {
              "color": "#E5ECF6",
              "width": 0.5
             },
             "pattern": {
              "fillmode": "overlay",
              "size": 10,
              "solidity": 0.2
             }
            },
            "type": "bar"
           }
          ],
          "barpolar": [
           {
            "marker": {
             "line": {
              "color": "#E5ECF6",
              "width": 0.5
             },
             "pattern": {
              "fillmode": "overlay",
              "size": 10,
              "solidity": 0.2
             }
            },
            "type": "barpolar"
           }
          ],
          "carpet": [
           {
            "aaxis": {
             "endlinecolor": "#2a3f5f",
             "gridcolor": "white",
             "linecolor": "white",
             "minorgridcolor": "white",
             "startlinecolor": "#2a3f5f"
            },
            "baxis": {
             "endlinecolor": "#2a3f5f",
             "gridcolor": "white",
             "linecolor": "white",
             "minorgridcolor": "white",
             "startlinecolor": "#2a3f5f"
            },
            "type": "carpet"
           }
          ],
          "choropleth": [
           {
            "colorbar": {
             "outlinewidth": 0,
             "ticks": ""
            },
            "type": "choropleth"
           }
          ],
          "contour": [
           {
            "colorbar": {
             "outlinewidth": 0,
             "ticks": ""
            },
            "colorscale": [
             [
              0,
              "#0d0887"
             ],
             [
              0.1111111111111111,
              "#46039f"
             ],
             [
              0.2222222222222222,
              "#7201a8"
             ],
             [
              0.3333333333333333,
              "#9c179e"
             ],
             [
              0.4444444444444444,
              "#bd3786"
             ],
             [
              0.5555555555555556,
              "#d8576b"
             ],
             [
              0.6666666666666666,
              "#ed7953"
             ],
             [
              0.7777777777777778,
              "#fb9f3a"
             ],
             [
              0.8888888888888888,
              "#fdca26"
             ],
             [
              1,
              "#f0f921"
             ]
            ],
            "type": "contour"
           }
          ],
          "contourcarpet": [
           {
            "colorbar": {
             "outlinewidth": 0,
             "ticks": ""
            },
            "type": "contourcarpet"
           }
          ],
          "heatmap": [
           {
            "colorbar": {
             "outlinewidth": 0,
             "ticks": ""
            },
            "colorscale": [
             [
              0,
              "#0d0887"
             ],
             [
              0.1111111111111111,
              "#46039f"
             ],
             [
              0.2222222222222222,
              "#7201a8"
             ],
             [
              0.3333333333333333,
              "#9c179e"
             ],
             [
              0.4444444444444444,
              "#bd3786"
             ],
             [
              0.5555555555555556,
              "#d8576b"
             ],
             [
              0.6666666666666666,
              "#ed7953"
             ],
             [
              0.7777777777777778,
              "#fb9f3a"
             ],
             [
              0.8888888888888888,
              "#fdca26"
             ],
             [
              1,
              "#f0f921"
             ]
            ],
            "type": "heatmap"
           }
          ],
          "heatmapgl": [
           {
            "colorbar": {
             "outlinewidth": 0,
             "ticks": ""
            },
            "colorscale": [
             [
              0,
              "#0d0887"
             ],
             [
              0.1111111111111111,
              "#46039f"
             ],
             [
              0.2222222222222222,
              "#7201a8"
             ],
             [
              0.3333333333333333,
              "#9c179e"
             ],
             [
              0.4444444444444444,
              "#bd3786"
             ],
             [
              0.5555555555555556,
              "#d8576b"
             ],
             [
              0.6666666666666666,
              "#ed7953"
             ],
             [
              0.7777777777777778,
              "#fb9f3a"
             ],
             [
              0.8888888888888888,
              "#fdca26"
             ],
             [
              1,
              "#f0f921"
             ]
            ],
            "type": "heatmapgl"
           }
          ],
          "histogram": [
           {
            "marker": {
             "pattern": {
              "fillmode": "overlay",
              "size": 10,
              "solidity": 0.2
             }
            },
            "type": "histogram"
           }
          ],
          "histogram2d": [
           {
            "colorbar": {
             "outlinewidth": 0,
             "ticks": ""
            },
            "colorscale": [
             [
              0,
              "#0d0887"
             ],
             [
              0.1111111111111111,
              "#46039f"
             ],
             [
              0.2222222222222222,
              "#7201a8"
             ],
             [
              0.3333333333333333,
              "#9c179e"
             ],
             [
              0.4444444444444444,
              "#bd3786"
             ],
             [
              0.5555555555555556,
              "#d8576b"
             ],
             [
              0.6666666666666666,
              "#ed7953"
             ],
             [
              0.7777777777777778,
              "#fb9f3a"
             ],
             [
              0.8888888888888888,
              "#fdca26"
             ],
             [
              1,
              "#f0f921"
             ]
            ],
            "type": "histogram2d"
           }
          ],
          "histogram2dcontour": [
           {
            "colorbar": {
             "outlinewidth": 0,
             "ticks": ""
            },
            "colorscale": [
             [
              0,
              "#0d0887"
             ],
             [
              0.1111111111111111,
              "#46039f"
             ],
             [
              0.2222222222222222,
              "#7201a8"
             ],
             [
              0.3333333333333333,
              "#9c179e"
             ],
             [
              0.4444444444444444,
              "#bd3786"
             ],
             [
              0.5555555555555556,
              "#d8576b"
             ],
             [
              0.6666666666666666,
              "#ed7953"
             ],
             [
              0.7777777777777778,
              "#fb9f3a"
             ],
             [
              0.8888888888888888,
              "#fdca26"
             ],
             [
              1,
              "#f0f921"
             ]
            ],
            "type": "histogram2dcontour"
           }
          ],
          "mesh3d": [
           {
            "colorbar": {
             "outlinewidth": 0,
             "ticks": ""
            },
            "type": "mesh3d"
           }
          ],
          "parcoords": [
           {
            "line": {
             "colorbar": {
              "outlinewidth": 0,
              "ticks": ""
             }
            },
            "type": "parcoords"
           }
          ],
          "pie": [
           {
            "automargin": true,
            "type": "pie"
           }
          ],
          "scatter": [
           {
            "marker": {
             "colorbar": {
              "outlinewidth": 0,
              "ticks": ""
             }
            },
            "type": "scatter"
           }
          ],
          "scatter3d": [
           {
            "line": {
             "colorbar": {
              "outlinewidth": 0,
              "ticks": ""
             }
            },
            "marker": {
             "colorbar": {
              "outlinewidth": 0,
              "ticks": ""
             }
            },
            "type": "scatter3d"
           }
          ],
          "scattercarpet": [
           {
            "marker": {
             "colorbar": {
              "outlinewidth": 0,
              "ticks": ""
             }
            },
            "type": "scattercarpet"
           }
          ],
          "scattergeo": [
           {
            "marker": {
             "colorbar": {
              "outlinewidth": 0,
              "ticks": ""
             }
            },
            "type": "scattergeo"
           }
          ],
          "scattergl": [
           {
            "marker": {
             "colorbar": {
              "outlinewidth": 0,
              "ticks": ""
             }
            },
            "type": "scattergl"
           }
          ],
          "scattermapbox": [
           {
            "marker": {
             "colorbar": {
              "outlinewidth": 0,
              "ticks": ""
             }
            },
            "type": "scattermapbox"
           }
          ],
          "scatterpolar": [
           {
            "marker": {
             "colorbar": {
              "outlinewidth": 0,
              "ticks": ""
             }
            },
            "type": "scatterpolar"
           }
          ],
          "scatterpolargl": [
           {
            "marker": {
             "colorbar": {
              "outlinewidth": 0,
              "ticks": ""
             }
            },
            "type": "scatterpolargl"
           }
          ],
          "scatterternary": [
           {
            "marker": {
             "colorbar": {
              "outlinewidth": 0,
              "ticks": ""
             }
            },
            "type": "scatterternary"
           }
          ],
          "surface": [
           {
            "colorbar": {
             "outlinewidth": 0,
             "ticks": ""
            },
            "colorscale": [
             [
              0,
              "#0d0887"
             ],
             [
              0.1111111111111111,
              "#46039f"
             ],
             [
              0.2222222222222222,
              "#7201a8"
             ],
             [
              0.3333333333333333,
              "#9c179e"
             ],
             [
              0.4444444444444444,
              "#bd3786"
             ],
             [
              0.5555555555555556,
              "#d8576b"
             ],
             [
              0.6666666666666666,
              "#ed7953"
             ],
             [
              0.7777777777777778,
              "#fb9f3a"
             ],
             [
              0.8888888888888888,
              "#fdca26"
             ],
             [
              1,
              "#f0f921"
             ]
            ],
            "type": "surface"
           }
          ],
          "table": [
           {
            "cells": {
             "fill": {
              "color": "#EBF0F8"
             },
             "line": {
              "color": "white"
             }
            },
            "header": {
             "fill": {
              "color": "#C8D4E3"
             },
             "line": {
              "color": "white"
             }
            },
            "type": "table"
           }
          ]
         },
         "layout": {
          "annotationdefaults": {
           "arrowcolor": "#2a3f5f",
           "arrowhead": 0,
           "arrowwidth": 1
          },
          "autotypenumbers": "strict",
          "coloraxis": {
           "colorbar": {
            "outlinewidth": 0,
            "ticks": ""
           }
          },
          "colorscale": {
           "diverging": [
            [
             0,
             "#8e0152"
            ],
            [
             0.1,
             "#c51b7d"
            ],
            [
             0.2,
             "#de77ae"
            ],
            [
             0.3,
             "#f1b6da"
            ],
            [
             0.4,
             "#fde0ef"
            ],
            [
             0.5,
             "#f7f7f7"
            ],
            [
             0.6,
             "#e6f5d0"
            ],
            [
             0.7,
             "#b8e186"
            ],
            [
             0.8,
             "#7fbc41"
            ],
            [
             0.9,
             "#4d9221"
            ],
            [
             1,
             "#276419"
            ]
           ],
           "sequential": [
            [
             0,
             "#0d0887"
            ],
            [
             0.1111111111111111,
             "#46039f"
            ],
            [
             0.2222222222222222,
             "#7201a8"
            ],
            [
             0.3333333333333333,
             "#9c179e"
            ],
            [
             0.4444444444444444,
             "#bd3786"
            ],
            [
             0.5555555555555556,
             "#d8576b"
            ],
            [
             0.6666666666666666,
             "#ed7953"
            ],
            [
             0.7777777777777778,
             "#fb9f3a"
            ],
            [
             0.8888888888888888,
             "#fdca26"
            ],
            [
             1,
             "#f0f921"
            ]
           ],
           "sequentialminus": [
            [
             0,
             "#0d0887"
            ],
            [
             0.1111111111111111,
             "#46039f"
            ],
            [
             0.2222222222222222,
             "#7201a8"
            ],
            [
             0.3333333333333333,
             "#9c179e"
            ],
            [
             0.4444444444444444,
             "#bd3786"
            ],
            [
             0.5555555555555556,
             "#d8576b"
            ],
            [
             0.6666666666666666,
             "#ed7953"
            ],
            [
             0.7777777777777778,
             "#fb9f3a"
            ],
            [
             0.8888888888888888,
             "#fdca26"
            ],
            [
             1,
             "#f0f921"
            ]
           ]
          },
          "colorway": [
           "#636efa",
           "#EF553B",
           "#00cc96",
           "#ab63fa",
           "#FFA15A",
           "#19d3f3",
           "#FF6692",
           "#B6E880",
           "#FF97FF",
           "#FECB52"
          ],
          "font": {
           "color": "#2a3f5f"
          },
          "geo": {
           "bgcolor": "white",
           "lakecolor": "white",
           "landcolor": "#E5ECF6",
           "showlakes": true,
           "showland": true,
           "subunitcolor": "white"
          },
          "hoverlabel": {
           "align": "left"
          },
          "hovermode": "closest",
          "mapbox": {
           "style": "light"
          },
          "paper_bgcolor": "white",
          "plot_bgcolor": "#E5ECF6",
          "polar": {
           "angularaxis": {
            "gridcolor": "white",
            "linecolor": "white",
            "ticks": ""
           },
           "bgcolor": "#E5ECF6",
           "radialaxis": {
            "gridcolor": "white",
            "linecolor": "white",
            "ticks": ""
           }
          },
          "scene": {
           "xaxis": {
            "backgroundcolor": "#E5ECF6",
            "gridcolor": "white",
            "gridwidth": 2,
            "linecolor": "white",
            "showbackground": true,
            "ticks": "",
            "zerolinecolor": "white"
           },
           "yaxis": {
            "backgroundcolor": "#E5ECF6",
            "gridcolor": "white",
            "gridwidth": 2,
            "linecolor": "white",
            "showbackground": true,
            "ticks": "",
            "zerolinecolor": "white"
           },
           "zaxis": {
            "backgroundcolor": "#E5ECF6",
            "gridcolor": "white",
            "gridwidth": 2,
            "linecolor": "white",
            "showbackground": true,
            "ticks": "",
            "zerolinecolor": "white"
           }
          },
          "shapedefaults": {
           "line": {
            "color": "#2a3f5f"
           }
          },
          "ternary": {
           "aaxis": {
            "gridcolor": "white",
            "linecolor": "white",
            "ticks": ""
           },
           "baxis": {
            "gridcolor": "white",
            "linecolor": "white",
            "ticks": ""
           },
           "bgcolor": "#E5ECF6",
           "caxis": {
            "gridcolor": "white",
            "linecolor": "white",
            "ticks": ""
           }
          },
          "title": {
           "x": 0.05
          },
          "xaxis": {
           "automargin": true,
           "gridcolor": "white",
           "linecolor": "white",
           "ticks": "",
           "title": {
            "standoff": 15
           },
           "zerolinecolor": "white",
           "zerolinewidth": 2
          },
          "yaxis": {
           "automargin": true,
           "gridcolor": "white",
           "linecolor": "white",
           "ticks": "",
           "title": {
            "standoff": 15
           },
           "zerolinecolor": "white",
           "zerolinewidth": 2
          }
         }
        },
        "title": {
         "text": "Median Price Per Season"
        },
        "xaxis": {
         "anchor": "y",
         "domain": [
          0,
          1
         ],
         "title": {
          "text": "season"
         }
        },
        "yaxis": {
         "anchor": "x",
         "domain": [
          0,
          1
         ],
         "title": {
          "text": "price"
         }
        }
       }
      },
      "text/html": [
       "<div>                            <div id=\"a13c613a-23f9-4681-9dd3-080e9ac9bcfe\" class=\"plotly-graph-div\" style=\"height:700px; width:100%;\"></div>            <script type=\"text/javascript\">                require([\"plotly\"], function(Plotly) {                    window.PLOTLYENV=window.PLOTLYENV || {};                                    if (document.getElementById(\"a13c613a-23f9-4681-9dd3-080e9ac9bcfe\")) {                    Plotly.newPlot(                        \"a13c613a-23f9-4681-9dd3-080e9ac9bcfe\",                        [{\"alignmentgroup\":\"True\",\"hovertemplate\":\"season=%{x}<br>price=%{y}<extra></extra>\",\"legendgroup\":\"\",\"marker\":{\"color\":\"#636efa\",\"pattern\":{\"shape\":\"\"}},\"name\":\"\",\"offsetgroup\":\"\",\"orientation\":\"v\",\"showlegend\":false,\"textposition\":\"auto\",\"type\":\"bar\",\"x\":[\"Autumn\",\"Spring\",\"Summer\",\"Winter\"],\"xaxis\":\"x\",\"y\":[359000.0,361000.0,367450.0,340000.0],\"yaxis\":\"y\"}],                        {\"barmode\":\"relative\",\"height\":700,\"legend\":{\"tracegroupgap\":0},\"template\":{\"data\":{\"bar\":[{\"error_x\":{\"color\":\"#2a3f5f\"},\"error_y\":{\"color\":\"#2a3f5f\"},\"marker\":{\"line\":{\"color\":\"#E5ECF6\",\"width\":0.5},\"pattern\":{\"fillmode\":\"overlay\",\"size\":10,\"solidity\":0.2}},\"type\":\"bar\"}],\"barpolar\":[{\"marker\":{\"line\":{\"color\":\"#E5ECF6\",\"width\":0.5},\"pattern\":{\"fillmode\":\"overlay\",\"size\":10,\"solidity\":0.2}},\"type\":\"barpolar\"}],\"carpet\":[{\"aaxis\":{\"endlinecolor\":\"#2a3f5f\",\"gridcolor\":\"white\",\"linecolor\":\"white\",\"minorgridcolor\":\"white\",\"startlinecolor\":\"#2a3f5f\"},\"baxis\":{\"endlinecolor\":\"#2a3f5f\",\"gridcolor\":\"white\",\"linecolor\":\"white\",\"minorgridcolor\":\"white\",\"startlinecolor\":\"#2a3f5f\"},\"type\":\"carpet\"}],\"choropleth\":[{\"colorbar\":{\"outlinewidth\":0,\"ticks\":\"\"},\"type\":\"choropleth\"}],\"contour\":[{\"colorbar\":{\"outlinewidth\":0,\"ticks\":\"\"},\"colorscale\":[[0.0,\"#0d0887\"],[0.1111111111111111,\"#46039f\"],[0.2222222222222222,\"#7201a8\"],[0.3333333333333333,\"#9c179e\"],[0.4444444444444444,\"#bd3786\"],[0.5555555555555556,\"#d8576b\"],[0.6666666666666666,\"#ed7953\"],[0.7777777777777778,\"#fb9f3a\"],[0.8888888888888888,\"#fdca26\"],[1.0,\"#f0f921\"]],\"type\":\"contour\"}],\"contourcarpet\":[{\"colorbar\":{\"outlinewidth\":0,\"ticks\":\"\"},\"type\":\"contourcarpet\"}],\"heatmap\":[{\"colorbar\":{\"outlinewidth\":0,\"ticks\":\"\"},\"colorscale\":[[0.0,\"#0d0887\"],[0.1111111111111111,\"#46039f\"],[0.2222222222222222,\"#7201a8\"],[0.3333333333333333,\"#9c179e\"],[0.4444444444444444,\"#bd3786\"],[0.5555555555555556,\"#d8576b\"],[0.6666666666666666,\"#ed7953\"],[0.7777777777777778,\"#fb9f3a\"],[0.8888888888888888,\"#fdca26\"],[1.0,\"#f0f921\"]],\"type\":\"heatmap\"}],\"heatmapgl\":[{\"colorbar\":{\"outlinewidth\":0,\"ticks\":\"\"},\"colorscale\":[[0.0,\"#0d0887\"],[0.1111111111111111,\"#46039f\"],[0.2222222222222222,\"#7201a8\"],[0.3333333333333333,\"#9c179e\"],[0.4444444444444444,\"#bd3786\"],[0.5555555555555556,\"#d8576b\"],[0.6666666666666666,\"#ed7953\"],[0.7777777777777778,\"#fb9f3a\"],[0.8888888888888888,\"#fdca26\"],[1.0,\"#f0f921\"]],\"type\":\"heatmapgl\"}],\"histogram\":[{\"marker\":{\"pattern\":{\"fillmode\":\"overlay\",\"size\":10,\"solidity\":0.2}},\"type\":\"histogram\"}],\"histogram2d\":[{\"colorbar\":{\"outlinewidth\":0,\"ticks\":\"\"},\"colorscale\":[[0.0,\"#0d0887\"],[0.1111111111111111,\"#46039f\"],[0.2222222222222222,\"#7201a8\"],[0.3333333333333333,\"#9c179e\"],[0.4444444444444444,\"#bd3786\"],[0.5555555555555556,\"#d8576b\"],[0.6666666666666666,\"#ed7953\"],[0.7777777777777778,\"#fb9f3a\"],[0.8888888888888888,\"#fdca26\"],[1.0,\"#f0f921\"]],\"type\":\"histogram2d\"}],\"histogram2dcontour\":[{\"colorbar\":{\"outlinewidth\":0,\"ticks\":\"\"},\"colorscale\":[[0.0,\"#0d0887\"],[0.1111111111111111,\"#46039f\"],[0.2222222222222222,\"#7201a8\"],[0.3333333333333333,\"#9c179e\"],[0.4444444444444444,\"#bd3786\"],[0.5555555555555556,\"#d8576b\"],[0.6666666666666666,\"#ed7953\"],[0.7777777777777778,\"#fb9f3a\"],[0.8888888888888888,\"#fdca26\"],[1.0,\"#f0f921\"]],\"type\":\"histogram2dcontour\"}],\"mesh3d\":[{\"colorbar\":{\"outlinewidth\":0,\"ticks\":\"\"},\"type\":\"mesh3d\"}],\"parcoords\":[{\"line\":{\"colorbar\":{\"outlinewidth\":0,\"ticks\":\"\"}},\"type\":\"parcoords\"}],\"pie\":[{\"automargin\":true,\"type\":\"pie\"}],\"scatter\":[{\"marker\":{\"colorbar\":{\"outlinewidth\":0,\"ticks\":\"\"}},\"type\":\"scatter\"}],\"scatter3d\":[{\"line\":{\"colorbar\":{\"outlinewidth\":0,\"ticks\":\"\"}},\"marker\":{\"colorbar\":{\"outlinewidth\":0,\"ticks\":\"\"}},\"type\":\"scatter3d\"}],\"scattercarpet\":[{\"marker\":{\"colorbar\":{\"outlinewidth\":0,\"ticks\":\"\"}},\"type\":\"scattercarpet\"}],\"scattergeo\":[{\"marker\":{\"colorbar\":{\"outlinewidth\":0,\"ticks\":\"\"}},\"type\":\"scattergeo\"}],\"scattergl\":[{\"marker\":{\"colorbar\":{\"outlinewidth\":0,\"ticks\":\"\"}},\"type\":\"scattergl\"}],\"scattermapbox\":[{\"marker\":{\"colorbar\":{\"outlinewidth\":0,\"ticks\":\"\"}},\"type\":\"scattermapbox\"}],\"scatterpolar\":[{\"marker\":{\"colorbar\":{\"outlinewidth\":0,\"ticks\":\"\"}},\"type\":\"scatterpolar\"}],\"scatterpolargl\":[{\"marker\":{\"colorbar\":{\"outlinewidth\":0,\"ticks\":\"\"}},\"type\":\"scatterpolargl\"}],\"scatterternary\":[{\"marker\":{\"colorbar\":{\"outlinewidth\":0,\"ticks\":\"\"}},\"type\":\"scatterternary\"}],\"surface\":[{\"colorbar\":{\"outlinewidth\":0,\"ticks\":\"\"},\"colorscale\":[[0.0,\"#0d0887\"],[0.1111111111111111,\"#46039f\"],[0.2222222222222222,\"#7201a8\"],[0.3333333333333333,\"#9c179e\"],[0.4444444444444444,\"#bd3786\"],[0.5555555555555556,\"#d8576b\"],[0.6666666666666666,\"#ed7953\"],[0.7777777777777778,\"#fb9f3a\"],[0.8888888888888888,\"#fdca26\"],[1.0,\"#f0f921\"]],\"type\":\"surface\"}],\"table\":[{\"cells\":{\"fill\":{\"color\":\"#EBF0F8\"},\"line\":{\"color\":\"white\"}},\"header\":{\"fill\":{\"color\":\"#C8D4E3\"},\"line\":{\"color\":\"white\"}},\"type\":\"table\"}]},\"layout\":{\"annotationdefaults\":{\"arrowcolor\":\"#2a3f5f\",\"arrowhead\":0,\"arrowwidth\":1},\"autotypenumbers\":\"strict\",\"coloraxis\":{\"colorbar\":{\"outlinewidth\":0,\"ticks\":\"\"}},\"colorscale\":{\"diverging\":[[0,\"#8e0152\"],[0.1,\"#c51b7d\"],[0.2,\"#de77ae\"],[0.3,\"#f1b6da\"],[0.4,\"#fde0ef\"],[0.5,\"#f7f7f7\"],[0.6,\"#e6f5d0\"],[0.7,\"#b8e186\"],[0.8,\"#7fbc41\"],[0.9,\"#4d9221\"],[1,\"#276419\"]],\"sequential\":[[0.0,\"#0d0887\"],[0.1111111111111111,\"#46039f\"],[0.2222222222222222,\"#7201a8\"],[0.3333333333333333,\"#9c179e\"],[0.4444444444444444,\"#bd3786\"],[0.5555555555555556,\"#d8576b\"],[0.6666666666666666,\"#ed7953\"],[0.7777777777777778,\"#fb9f3a\"],[0.8888888888888888,\"#fdca26\"],[1.0,\"#f0f921\"]],\"sequentialminus\":[[0.0,\"#0d0887\"],[0.1111111111111111,\"#46039f\"],[0.2222222222222222,\"#7201a8\"],[0.3333333333333333,\"#9c179e\"],[0.4444444444444444,\"#bd3786\"],[0.5555555555555556,\"#d8576b\"],[0.6666666666666666,\"#ed7953\"],[0.7777777777777778,\"#fb9f3a\"],[0.8888888888888888,\"#fdca26\"],[1.0,\"#f0f921\"]]},\"colorway\":[\"#636efa\",\"#EF553B\",\"#00cc96\",\"#ab63fa\",\"#FFA15A\",\"#19d3f3\",\"#FF6692\",\"#B6E880\",\"#FF97FF\",\"#FECB52\"],\"font\":{\"color\":\"#2a3f5f\"},\"geo\":{\"bgcolor\":\"white\",\"lakecolor\":\"white\",\"landcolor\":\"#E5ECF6\",\"showlakes\":true,\"showland\":true,\"subunitcolor\":\"white\"},\"hoverlabel\":{\"align\":\"left\"},\"hovermode\":\"closest\",\"mapbox\":{\"style\":\"light\"},\"paper_bgcolor\":\"white\",\"plot_bgcolor\":\"#E5ECF6\",\"polar\":{\"angularaxis\":{\"gridcolor\":\"white\",\"linecolor\":\"white\",\"ticks\":\"\"},\"bgcolor\":\"#E5ECF6\",\"radialaxis\":{\"gridcolor\":\"white\",\"linecolor\":\"white\",\"ticks\":\"\"}},\"scene\":{\"xaxis\":{\"backgroundcolor\":\"#E5ECF6\",\"gridcolor\":\"white\",\"gridwidth\":2,\"linecolor\":\"white\",\"showbackground\":true,\"ticks\":\"\",\"zerolinecolor\":\"white\"},\"yaxis\":{\"backgroundcolor\":\"#E5ECF6\",\"gridcolor\":\"white\",\"gridwidth\":2,\"linecolor\":\"white\",\"showbackground\":true,\"ticks\":\"\",\"zerolinecolor\":\"white\"},\"zaxis\":{\"backgroundcolor\":\"#E5ECF6\",\"gridcolor\":\"white\",\"gridwidth\":2,\"linecolor\":\"white\",\"showbackground\":true,\"ticks\":\"\",\"zerolinecolor\":\"white\"}},\"shapedefaults\":{\"line\":{\"color\":\"#2a3f5f\"}},\"ternary\":{\"aaxis\":{\"gridcolor\":\"white\",\"linecolor\":\"white\",\"ticks\":\"\"},\"baxis\":{\"gridcolor\":\"white\",\"linecolor\":\"white\",\"ticks\":\"\"},\"bgcolor\":\"#E5ECF6\",\"caxis\":{\"gridcolor\":\"white\",\"linecolor\":\"white\",\"ticks\":\"\"}},\"title\":{\"x\":0.05},\"xaxis\":{\"automargin\":true,\"gridcolor\":\"white\",\"linecolor\":\"white\",\"ticks\":\"\",\"title\":{\"standoff\":15},\"zerolinecolor\":\"white\",\"zerolinewidth\":2},\"yaxis\":{\"automargin\":true,\"gridcolor\":\"white\",\"linecolor\":\"white\",\"ticks\":\"\",\"title\":{\"standoff\":15},\"zerolinecolor\":\"white\",\"zerolinewidth\":2}}},\"title\":{\"text\":\"Median Price Per Season\"},\"xaxis\":{\"anchor\":\"y\",\"domain\":[0.0,1.0],\"title\":{\"text\":\"season\"}},\"yaxis\":{\"anchor\":\"x\",\"domain\":[0.0,1.0],\"title\":{\"text\":\"price\"}}},                        {\"responsive\": true}                    ).then(function(){\n",
       "                            \n",
       "var gd = document.getElementById('a13c613a-23f9-4681-9dd3-080e9ac9bcfe');\n",
       "var x = new MutationObserver(function (mutations, observer) {{\n",
       "        var display = window.getComputedStyle(gd).display;\n",
       "        if (!display || display === 'none') {{\n",
       "            console.log([gd, 'removed!']);\n",
       "            Plotly.purge(gd);\n",
       "            observer.disconnect();\n",
       "        }}\n",
       "}});\n",
       "\n",
       "// Listen for the removal of the full notebook cells\n",
       "var notebookContainer = gd.closest('#notebook-container');\n",
       "if (notebookContainer) {{\n",
       "    x.observe(notebookContainer, {childList: true});\n",
       "}}\n",
       "\n",
       "// Listen for the clearing of the current output cell\n",
       "var outputEl = gd.closest('.output');\n",
       "if (outputEl) {{\n",
       "    x.observe(outputEl, {childList: true});\n",
       "}}\n",
       "\n",
       "                        })                };                });            </script>        </div>"
      ]
     },
     "metadata": {},
     "output_type": "display_data"
    }
   ],
   "source": [
    "b5 = b5[['season', 'price']].groupby('season').median().reset_index()\n",
    "\n",
    "fig = px.bar(b5, x = 'season', y = 'price', title = 'Median Price Per Season', height = 700 )\n",
    "fig.show()"
   ]
  }
 ],
 "metadata": {
  "kernelspec": {
   "display_name": "Python 3 (ipykernel)",
   "language": "python",
   "name": "python3"
  },
  "language_info": {
   "codemirror_mode": {
    "name": "ipython",
    "version": 3
   },
   "file_extension": ".py",
   "mimetype": "text/x-python",
   "name": "python",
   "nbconvert_exporter": "python",
   "pygments_lexer": "ipython3",
   "version": "3.8.8"
  }
 },
 "nbformat": 4,
 "nbformat_minor": 5
}
